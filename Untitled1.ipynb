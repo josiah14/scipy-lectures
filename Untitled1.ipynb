{
 "cells": [
  {
   "cell_type": "code",
   "execution_count": 1,
   "metadata": {},
   "outputs": [
    {
     "data": {
      "text/plain": [
       "[3]"
      ]
     },
     "execution_count": 1,
     "metadata": {},
     "output_type": "execute_result"
    }
   ],
   "source": [
    "(+ 1 2)"
   ]
  },
  {
   "cell_type": "code",
   "execution_count": 2,
   "metadata": {},
   "outputs": [
    {
     "name": "stderr",
     "output_type": "stream",
     "text": [
      "\u001b[0;31mTraceback (most recent call last):\n",
      "  File \"/home/josiah/miniconda3/envs/scipy-lectures/lib/python3.7/site-packages/funcparserlib/parser.py\", line 121, in parse\n",
      "    (tree, _) = self.run(tokens, State())\n",
      "  File \"/home/josiah/miniconda3/envs/scipy-lectures/lib/python3.7/site-packages/funcparserlib/parser.py\", line 199, in _shift\n",
      "    (v, s2) = self.run(tokens, s)\n",
      "  File \"/home/josiah/miniconda3/envs/scipy-lectures/lib/python3.7/site-packages/funcparserlib/parser.py\", line 158, in _add\n",
      "    (v2, s3) = other.run(tokens, s2)\n",
      "  File \"/home/josiah/miniconda3/envs/scipy-lectures/lib/python3.7/site-packages/funcparserlib/parser.py\", line 272, in finished\n",
      "    raise NoParseError('should have reached <EOF>', s)\n",
      "funcparserlib.parser.NoParseError: should have reached <EOF>\n",
      "\n",
      "During handling of the above exception, another exception occurred:\n",
      "\n",
      "Traceback (most recent call last):\n",
      "  File \"/home/josiah/miniconda3/envs/scipy-lectures/lib/python3.7/site-packages/hy/compiler.py\", line 1580, in compile_expression\n",
      "    parse_tree = pattern.parse(expression[1:])\n",
      "  File \"/home/josiah/miniconda3/envs/scipy-lectures/lib/python3.7/site-packages/funcparserlib/parser.py\", line 129, in parse\n",
      "    raise NoParseError('%s: %s' % (e.msg, tok), e.state)\n",
      "funcparserlib.parser.NoParseError: should have reached <EOF>: HyList([\n",
      "  HySymbol('datetime')])\n",
      "\n",
      "During handling of the above exception, another exception occurred:\n",
      "\n",
      "Traceback (most recent call last):\n",
      "  File \"/home/josiah/miniconda3/envs/scipy-lectures/lib/python3.7/site-packages/calysto_hy/kernel.py\", line 134, in do_execute_direct\n",
      "    _ast = hy_compile(tokens, '', root=ast.Interactive)\n",
      "  File \"/home/josiah/miniconda3/envs/scipy-lectures/lib/python3.7/site-packages/hy/compiler.py\", line 1723, in hy_compile\n",
      "    result = compiler.compile(tree)\n",
      "  File \"/home/josiah/miniconda3/envs/scipy-lectures/lib/python3.7/site-packages/hy/compiler.py\", line 350, in compile\n",
      "    ret = self.compile_atom(tree)\n",
      "  File \"/home/josiah/miniconda3/envs/scipy-lectures/lib/python3.7/site-packages/hy/compiler.py\", line 344, in compile_atom\n",
      "    return Result() + _model_compilers[type(atom)](self, atom)\n",
      "  File \"/home/josiah/miniconda3/envs/scipy-lectures/lib/python3.7/site-packages/hy/compiler.py\", line 1699, in compile_list\n",
      "    elts, ret, _ = self._compile_collect(expression)\n",
      "  File \"/home/josiah/miniconda3/envs/scipy-lectures/lib/python3.7/site-packages/hy/compiler.py\", line 423, in _compile_collect\n",
      "    ret += self.compile(expr)\n",
      "  File \"/home/josiah/miniconda3/envs/scipy-lectures/lib/python3.7/site-packages/hy/compiler.py\", line 350, in compile\n",
      "    ret = self.compile_atom(tree)\n",
      "  File \"/home/josiah/miniconda3/envs/scipy-lectures/lib/python3.7/site-packages/hy/compiler.py\", line 344, in compile_atom\n",
      "    return Result() + _model_compilers[type(atom)](self, atom)\n",
      "  File \"/home/josiah/miniconda3/envs/scipy-lectures/lib/python3.7/site-packages/hy/compiler.py\", line 1586, in compile_expression\n",
      "    e.msg.replace(\"<EOF>\", \"end of form\")))\n",
      "hy.errors.HyTypeError:   File \"None\", line 1, column 18\n",
      "\n",
      "HyTypeError: parse error for special form 'import': should have reached end of form: HyList([\n",
      "  HySymbol('datetime')])\n",
      "\n",
      "\n",
      "\n",
      "\u001b[0m"
     ]
    }
   ],
   "source": [
    "(import datetime [datetime])\n",
    "(.datetime now)"
   ]
  },
  {
   "cell_type": "code",
   "execution_count": 3,
   "metadata": {},
   "outputs": [
    {
     "name": "stderr",
     "output_type": "stream",
     "text": [
      "\u001b[0;31mTraceback (most recent call last):\n",
      "  File \"/home/josiah/miniconda3/envs/scipy-lectures/lib/python3.7/site-packages/calysto_hy/kernel.py\", line 137, in do_execute_direct\n",
      "    eval(code, self.env)\n",
      "  File \"In [3]\", line 1, in <module>\n",
      "NameError: name 'datetime' is not defined\n",
      "\n",
      "\u001b[0m"
     ]
    }
   ],
   "source": [
    "(datetime.now)"
   ]
  },
  {
   "cell_type": "code",
   "execution_count": 4,
   "metadata": {},
   "outputs": [
    {
     "name": "stderr",
     "output_type": "stream",
     "text": [
      "\u001b[0;31mTraceback (most recent call last):\n",
      "  File \"/home/josiah/miniconda3/envs/scipy-lectures/lib/python3.7/site-packages/funcparserlib/parser.py\", line 121, in parse\n",
      "    (tree, _) = self.run(tokens, State())\n",
      "  File \"/home/josiah/miniconda3/envs/scipy-lectures/lib/python3.7/site-packages/funcparserlib/parser.py\", line 199, in _shift\n",
      "    (v, s2) = self.run(tokens, s)\n",
      "  File \"/home/josiah/miniconda3/envs/scipy-lectures/lib/python3.7/site-packages/funcparserlib/parser.py\", line 158, in _add\n",
      "    (v2, s3) = other.run(tokens, s2)\n",
      "  File \"/home/josiah/miniconda3/envs/scipy-lectures/lib/python3.7/site-packages/funcparserlib/parser.py\", line 272, in finished\n",
      "    raise NoParseError('should have reached <EOF>', s)\n",
      "funcparserlib.parser.NoParseError: should have reached <EOF>\n",
      "\n",
      "During handling of the above exception, another exception occurred:\n",
      "\n",
      "Traceback (most recent call last):\n",
      "  File \"/home/josiah/miniconda3/envs/scipy-lectures/lib/python3.7/site-packages/hy/compiler.py\", line 1580, in compile_expression\n",
      "    parse_tree = pattern.parse(expression[1:])\n",
      "  File \"/home/josiah/miniconda3/envs/scipy-lectures/lib/python3.7/site-packages/funcparserlib/parser.py\", line 129, in parse\n",
      "    raise NoParseError('%s: %s' % (e.msg, tok), e.state)\n",
      "funcparserlib.parser.NoParseError: should have reached <EOF>: HyList([\n",
      "  HySymbol('datetime')])\n",
      "\n",
      "During handling of the above exception, another exception occurred:\n",
      "\n",
      "Traceback (most recent call last):\n",
      "  File \"/home/josiah/miniconda3/envs/scipy-lectures/lib/python3.7/site-packages/calysto_hy/kernel.py\", line 134, in do_execute_direct\n",
      "    _ast = hy_compile(tokens, '', root=ast.Interactive)\n",
      "  File \"/home/josiah/miniconda3/envs/scipy-lectures/lib/python3.7/site-packages/hy/compiler.py\", line 1723, in hy_compile\n",
      "    result = compiler.compile(tree)\n",
      "  File \"/home/josiah/miniconda3/envs/scipy-lectures/lib/python3.7/site-packages/hy/compiler.py\", line 350, in compile\n",
      "    ret = self.compile_atom(tree)\n",
      "  File \"/home/josiah/miniconda3/envs/scipy-lectures/lib/python3.7/site-packages/hy/compiler.py\", line 344, in compile_atom\n",
      "    return Result() + _model_compilers[type(atom)](self, atom)\n",
      "  File \"/home/josiah/miniconda3/envs/scipy-lectures/lib/python3.7/site-packages/hy/compiler.py\", line 1699, in compile_list\n",
      "    elts, ret, _ = self._compile_collect(expression)\n",
      "  File \"/home/josiah/miniconda3/envs/scipy-lectures/lib/python3.7/site-packages/hy/compiler.py\", line 423, in _compile_collect\n",
      "    ret += self.compile(expr)\n",
      "  File \"/home/josiah/miniconda3/envs/scipy-lectures/lib/python3.7/site-packages/hy/compiler.py\", line 350, in compile\n",
      "    ret = self.compile_atom(tree)\n",
      "  File \"/home/josiah/miniconda3/envs/scipy-lectures/lib/python3.7/site-packages/hy/compiler.py\", line 344, in compile_atom\n",
      "    return Result() + _model_compilers[type(atom)](self, atom)\n",
      "  File \"/home/josiah/miniconda3/envs/scipy-lectures/lib/python3.7/site-packages/hy/compiler.py\", line 1586, in compile_expression\n",
      "    e.msg.replace(\"<EOF>\", \"end of form\")))\n",
      "hy.errors.HyTypeError:   File \"None\", line 1, column 18\n",
      "\n",
      "HyTypeError: parse error for special form 'import': should have reached end of form: HyList([\n",
      "  HySymbol('datetime')])\n",
      "\n",
      "\n",
      "\n",
      "\u001b[0m"
     ]
    }
   ],
   "source": [
    "(import datetime [datetime])"
   ]
  },
  {
   "cell_type": "code",
   "execution_count": 5,
   "metadata": {},
   "outputs": [
    {
     "data": {
      "text/plain": [
       "[None]"
      ]
     },
     "execution_count": 5,
     "metadata": {},
     "output_type": "execute_result"
    }
   ],
   "source": [
    "(import [datetime [datetime]])"
   ]
  },
  {
   "cell_type": "code",
   "execution_count": 6,
   "metadata": {},
   "outputs": [
    {
     "data": {
      "text/plain": [
       "[datetime.datetime(2019, 2, 23, 14, 41, 2, 933090)]"
      ]
     },
     "execution_count": 6,
     "metadata": {},
     "output_type": "execute_result"
    }
   ],
   "source": [
    "(.now datetime)"
   ]
  },
  {
   "cell_type": "code",
   "execution_count": 7,
   "metadata": {},
   "outputs": [
    {
     "data": {
      "text/plain": [
       "[datetime.datetime(2019, 2, 23, 14, 41, 9, 473709)]"
      ]
     },
     "execution_count": 7,
     "metadata": {},
     "output_type": "execute_result"
    }
   ],
   "source": [
    "(datetime.now)"
   ]
  },
  {
   "cell_type": "code",
   "execution_count": 8,
   "metadata": {},
   "outputs": [
    {
     "data": {
      "text/plain": [
       "[<built-in method now of type object at 0x7f51ad723ca0>]"
      ]
     },
     "execution_count": 8,
     "metadata": {},
     "output_type": "execute_result"
    }
   ],
   "source": [
    "(. datetime now)"
   ]
  },
  {
   "cell_type": "code",
   "execution_count": 9,
   "metadata": {},
   "outputs": [
    {
     "data": {
      "text/plain": [
       "[datetime.datetime(2019, 2, 23, 14, 41, 52, 202562)]"
      ]
     },
     "execution_count": 9,
     "metadata": {},
     "output_type": "execute_result"
    }
   ],
   "source": [
    "((. datetime now))"
   ]
  },
  {
   "cell_type": "code",
   "execution_count": null,
   "metadata": {},
   "outputs": [],
   "source": []
  }
 ],
 "metadata": {
  "kernelspec": {
   "display_name": "Calysto Hy",
   "language": "hy",
   "name": "calysto_hy"
  },
  "language_info": {
   "codemirror_mode": {
    "name": "scheme"
   },
   "mimetype": "text/x-hylang",
   "name": "hy",
   "pygments_lexer": "lisp"
  }
 },
 "nbformat": 4,
 "nbformat_minor": 2
}
