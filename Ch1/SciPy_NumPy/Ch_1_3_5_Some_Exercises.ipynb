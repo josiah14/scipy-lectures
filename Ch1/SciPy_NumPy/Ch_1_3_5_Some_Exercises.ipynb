{
 "cells": [
  {
   "cell_type": "code",
   "execution_count": 1,
   "metadata": {
    "collapsed": true
   },
   "outputs": [],
   "source": [
    "import numpy as np"
   ]
  },
  {
   "cell_type": "code",
   "execution_count": 2,
   "metadata": {
    "collapsed": false
   },
   "outputs": [
    {
     "data": {
      "text/plain": [
       "array([[ 1,  6, 11],\n",
       "       [ 2,  7, 12],\n",
       "       [ 3,  8, 13],\n",
       "       [ 4,  9, 14],\n",
       "       [ 5, 10, 15]])"
      ]
     },
     "execution_count": 2,
     "metadata": {},
     "output_type": "execute_result"
    }
   ],
   "source": [
    "# 1.\n",
    "# Form the following 2D array using NumPy fxns.\n",
    "# [[1,  6, 11],\n",
    "#  [2,  7, 12],\n",
    "#  [3,  8, 13],\n",
    "#  [4,  9, 14],\n",
    "#  [5, 10, 15]]\n",
    "\n",
    "mat = np.arange(1,16).reshape((3,5)).T\n",
    "mat"
   ]
  },
  {
   "cell_type": "code",
   "execution_count": 3,
   "metadata": {
    "collapsed": false
   },
   "outputs": [
    {
     "data": {
      "text/plain": [
       "array([[ 2,  7, 12],\n",
       "       [ 4,  9, 14]])"
      ]
     },
     "execution_count": 3,
     "metadata": {},
     "output_type": "execute_result"
    }
   ],
   "source": [
    "# Also, create a second array which contains only the 2nd and 4th rows.\n",
    "new_mat = mat[[1,3]]\n",
    "new_mat"
   ]
  },
  {
   "cell_type": "code",
   "execution_count": 4,
   "metadata": {
    "collapsed": false
   },
   "outputs": [
    {
     "data": {
      "text/plain": [
       "array([[ 0.        ,  1.        ,  2.        ,  3.        ,  4.        ],\n",
       "       [ 1.        ,  1.2       ,  1.4       ,  1.6       ,  1.8       ],\n",
       "       [ 1.        ,  1.1       ,  1.2       ,  1.3       ,  1.4       ],\n",
       "       [ 1.        ,  1.06666667,  1.13333333,  1.2       ,  1.26666667],\n",
       "       [ 1.        ,  1.05      ,  1.1       ,  1.15      ,  1.2       ]])"
      ]
     },
     "execution_count": 4,
     "metadata": {},
     "output_type": "execute_result"
    }
   ],
   "source": [
    "# 2.\n",
    "# Divide each column of the array np.arange(25).reshape(5,5) elementwise with the array [1., 5, 15, 20]\n",
    "mat = np.arange(25).reshape(5,5)\n",
    "arr = np.array([1., 5, 10, 15, 20])\n",
    "mat / arr[:, np.newaxis]\n",
    "# New access turns the arr which is a row into a column - autobroadcasting handles propogating the row across all the\n",
    "# columns of mat."
   ]
  },
  {
   "cell_type": "code",
   "execution_count": 6,
   "metadata": {
    "collapsed": true
   },
   "outputs": [],
   "source": [
    "# 3.\n",
    "# Generate a 10 x 3 matrix of random numbers in the Set [0,1].  For each row, choose the number closest to 0.5.\n",
    "#   Additional instructions: use `abs` and `argsort` to pick the column j of the closest number to 0.5 for each row\n",
    "#                            Use fancy indexing to extract the numbers"
   ]
  },
  {
   "cell_type": "code",
   "execution_count": 61,
   "metadata": {
    "collapsed": false
   },
   "outputs": [
    {
     "name": "stdout",
     "output_type": "stream",
     "text": [
      "[[ 0.00203033  0.9975632   0.17093592]\n",
      " [ 0.85876879  0.78079256  0.47921052]\n",
      " [ 0.36717863  0.21431179  0.710931  ]\n",
      " [ 0.43928614  0.54019885  0.63370977]\n",
      " [ 0.05878514  0.15148066  0.59947661]\n",
      " [ 0.72956135  0.69455862  0.64101071]\n",
      " [ 0.26065548  0.58213876  0.6469138 ]\n",
      " [ 0.30497904  0.23653318  0.6588665 ]\n",
      " [ 0.835493    0.05978209  0.1551167 ]\n",
      " [ 0.08399699  0.75835136  0.55555325]]\n",
      "[[ 0.49796967  0.4975632   0.32906408]\n",
      " [ 0.35876879  0.28079256  0.02078948]\n",
      " [ 0.13282137  0.28568821  0.210931  ]\n",
      " [ 0.06071386  0.04019885  0.13370977]\n",
      " [ 0.44121486  0.34851934  0.09947661]\n",
      " [ 0.22956135  0.19455862  0.14101071]\n",
      " [ 0.23934452  0.08213876  0.1469138 ]\n",
      " [ 0.19502096  0.26346682  0.1588665 ]\n",
      " [ 0.335493    0.44021791  0.3448833 ]\n",
      " [ 0.41600301  0.25835136  0.05555325]]\n",
      "[[2 1 0]\n",
      " [2 1 0]\n",
      " [0 2 1]\n",
      " [1 0 2]\n",
      " [2 1 0]\n",
      " [2 1 0]\n",
      " [1 2 0]\n",
      " [2 0 1]\n",
      " [0 2 1]\n",
      " [2 1 0]]\n"
     ]
    },
    {
     "data": {
      "text/plain": [
       "[0.17093592440575445,\n",
       " 0.47921051637712919,\n",
       " 0.36717862794929412,\n",
       " 0.54019884614268099,\n",
       " 0.59947661318841139,\n",
       " 0.64101070708847963,\n",
       " 0.58213875654710068,\n",
       " 0.65886649880126891,\n",
       " 0.83549299512664854,\n",
       " 0.55555325126601385]"
      ]
     },
     "execution_count": 61,
     "metadata": {},
     "output_type": "execute_result"
    }
   ],
   "source": [
    "mat = np.random.sample((10,3))\n",
    "print(mat)\n",
    "distances_from_half = np.abs(mat - 0.5)\n",
    "print(distances_from_half)\n",
    "sort_values = np.argsort(distances_from_half)\n",
    "print(sort_values)\n",
    "closest_indices = sort_values\n",
    "closest_index_pairs = [ (i, sort_values[i][0]) for i in np.arange(0, sort_values.shape[0]) ]\n",
    "closest_numbers = [ mat[i[0], i[1]] for i in closest_index_pairs]\n",
    "closest_numbers"
   ]
  },
  {
   "cell_type": "code",
   "execution_count": 54,
   "metadata": {
    "collapsed": false
   },
   "outputs": [],
   "source": []
  },
  {
   "cell_type": "code",
   "execution_count": null,
   "metadata": {
    "collapsed": true
   },
   "outputs": [],
   "source": []
  }
 ],
 "metadata": {
  "kernelspec": {
   "display_name": "Python 3",
   "language": "python",
   "name": "python3"
  },
  "language_info": {
   "codemirror_mode": {
    "name": "ipython",
    "version": 3
   },
   "file_extension": ".py",
   "mimetype": "text/x-python",
   "name": "python",
   "nbconvert_exporter": "python",
   "pygments_lexer": "ipython3",
   "version": "3.5.0"
  }
 },
 "nbformat": 4,
 "nbformat_minor": 0
}
