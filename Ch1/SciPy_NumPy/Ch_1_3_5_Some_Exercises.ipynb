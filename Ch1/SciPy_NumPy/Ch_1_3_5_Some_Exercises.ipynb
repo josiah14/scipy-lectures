{
 "cells": [
  {
   "cell_type": "code",
   "execution_count": 1,
   "metadata": {
    "collapsed": true
   },
   "outputs": [],
   "source": [
    "import numpy as np"
   ]
  },
  {
   "cell_type": "code",
   "execution_count": 2,
   "metadata": {
    "collapsed": false
   },
   "outputs": [
    {
     "data": {
      "text/plain": [
       "array([[ 1,  6, 11],\n",
       "       [ 2,  7, 12],\n",
       "       [ 3,  8, 13],\n",
       "       [ 4,  9, 14],\n",
       "       [ 5, 10, 15]])"
      ]
     },
     "execution_count": 2,
     "metadata": {},
     "output_type": "execute_result"
    }
   ],
   "source": [
    "# 1.\n",
    "# Form the following 2D array using NumPy fxns.\n",
    "# [[1,  6, 11],\n",
    "#  [2,  7, 12],\n",
    "#  [3,  8, 13],\n",
    "#  [4,  9, 14],\n",
    "#  [5, 10, 15]]\n",
    "\n",
    "mat = np.arange(1,16).reshape((3,5)).T\n",
    "mat"
   ]
  },
  {
   "cell_type": "code",
   "execution_count": 3,
   "metadata": {
    "collapsed": false
   },
   "outputs": [
    {
     "data": {
      "text/plain": [
       "array([[ 2,  7, 12],\n",
       "       [ 4,  9, 14]])"
      ]
     },
     "execution_count": 3,
     "metadata": {},
     "output_type": "execute_result"
    }
   ],
   "source": [
    "# Also, create a second array which contains only the 2nd and 4th rows.\n",
    "new_mat = mat[[1,3]]\n",
    "new_mat"
   ]
  },
  {
   "cell_type": "code",
   "execution_count": 4,
   "metadata": {
    "collapsed": false
   },
   "outputs": [
    {
     "data": {
      "text/plain": [
       "array([[ 0.        ,  1.        ,  2.        ,  3.        ,  4.        ],\n",
       "       [ 1.        ,  1.2       ,  1.4       ,  1.6       ,  1.8       ],\n",
       "       [ 1.        ,  1.1       ,  1.2       ,  1.3       ,  1.4       ],\n",
       "       [ 1.        ,  1.06666667,  1.13333333,  1.2       ,  1.26666667],\n",
       "       [ 1.        ,  1.05      ,  1.1       ,  1.15      ,  1.2       ]])"
      ]
     },
     "execution_count": 4,
     "metadata": {},
     "output_type": "execute_result"
    }
   ],
   "source": [
    "# 2.\n",
    "# Divide each column of the array np.arange(25).reshape(5,5) elementwise with the array [1., 5, 15, 20]\n",
    "mat = np.arange(25).reshape(5,5)\n",
    "arr = np.array([1., 5, 10, 15, 20])\n",
    "mat / arr[:, np.newaxis]\n",
    "# New access turns the arr which is a row into a column - autobroadcasting handles propogating the row across all the\n",
    "# columns of mat."
   ]
  },
  {
   "cell_type": "code",
   "execution_count": 5,
   "metadata": {
    "collapsed": true
   },
   "outputs": [],
   "source": [
    "# 3.\n",
    "# Generate a 10 x 3 matrix of random numbers in the Set [0,1].  For each row, choose the number closest to 0.5.\n",
    "#   Additional instructions: use `abs` and `argsort` to pick the column j of the closest number to 0.5 for each row\n",
    "#                            Use fancy indexing to extract the numbers"
   ]
  },
  {
   "cell_type": "code",
   "execution_count": 6,
   "metadata": {
    "collapsed": false
   },
   "outputs": [
    {
     "name": "stdout",
     "output_type": "stream",
     "text": [
      "[[ 0.08793435  0.73177254  0.62805837]\n",
      " [ 0.36123025  0.64536873  0.18273487]\n",
      " [ 0.50178721  0.91285468  0.96157728]\n",
      " [ 0.57241649  0.73591995  0.20317841]\n",
      " [ 0.96975435  0.286237    0.28669129]\n",
      " [ 0.84426798  0.49316912  0.6413791 ]\n",
      " [ 0.59575333  0.06320073  0.69599347]\n",
      " [ 0.35664221  0.05240474  0.93805705]\n",
      " [ 0.63341822  0.05127082  0.31970119]\n",
      " [ 0.09830292  0.06227591  0.25454979]]\n",
      "[[ 0.41206565  0.23177254  0.12805837]\n",
      " [ 0.13876975  0.14536873  0.31726513]\n",
      " [ 0.00178721  0.41285468  0.46157728]\n",
      " [ 0.07241649  0.23591995  0.29682159]\n",
      " [ 0.46975435  0.213763    0.21330871]\n",
      " [ 0.34426798  0.00683088  0.1413791 ]\n",
      " [ 0.09575333  0.43679927  0.19599347]\n",
      " [ 0.14335779  0.44759526  0.43805705]\n",
      " [ 0.13341822  0.44872918  0.18029881]\n",
      " [ 0.40169708  0.43772409  0.24545021]]\n",
      "[[2 1 0]\n",
      " [0 1 2]\n",
      " [0 1 2]\n",
      " [0 1 2]\n",
      " [2 1 0]\n",
      " [1 2 0]\n",
      " [0 2 1]\n",
      " [0 2 1]\n",
      " [0 2 1]\n",
      " [2 0 1]]\n"
     ]
    },
    {
     "data": {
      "text/plain": [
       "[0.62805836653172853,\n",
       " 0.36123024984225416,\n",
       " 0.50178720544048483,\n",
       " 0.57241649152196983,\n",
       " 0.28669129098339829,\n",
       " 0.49316911825501453,\n",
       " 0.59575332948480753,\n",
       " 0.35664221401273943,\n",
       " 0.63341822012740401,\n",
       " 0.25454979015173618]"
      ]
     },
     "execution_count": 6,
     "metadata": {},
     "output_type": "execute_result"
    }
   ],
   "source": [
    "mat = np.random.sample((10,3))\n",
    "print(mat)\n",
    "distances_from_half = np.abs(mat - 0.5)\n",
    "print(distances_from_half)\n",
    "sort_values = np.argsort(distances_from_half)\n",
    "print(sort_values)\n",
    "closest_indices = sort_values\n",
    "closest_index_pairs = [ (i, sort_values[i, 0]) for i in np.arange(0, sort_values.shape[0]) ]\n",
    "closest_numbers = [ mat[i[0], i[1]] for i in closest_index_pairs ]\n",
    "closest_numbers"
   ]
  },
  {
   "cell_type": "code",
   "execution_count": 7,
   "metadata": {
    "collapsed": true
   },
   "outputs": [],
   "source": [
    "# 4. Picture Manipulation: Framing a Face"
   ]
  },
  {
   "cell_type": "code",
   "execution_count": 24,
   "metadata": {
    "collapsed": true
   },
   "outputs": [],
   "source": [
    "from scipy import misc\n",
    "face = misc.face(gray=True)"
   ]
  },
  {
   "cell_type": "code",
   "execution_count": 25,
   "metadata": {
    "collapsed": false
   },
   "outputs": [
    {
     "data": {
      "text/plain": [
       "<matplotlib.image.AxesImage at 0x10d5f6e10>"
      ]
     },
     "execution_count": 25,
     "metadata": {},
     "output_type": "execute_result"
    }
   ],
   "source": [
    "# use PyLab's imshow fxn to display the image as-is\n",
    "import pylab as plb\n",
    "plb.imshow(face)"
   ]
  },
  {
   "cell_type": "code",
   "execution_count": 26,
   "metadata": {
    "collapsed": true
   },
   "outputs": [],
   "source": [
    "plb.show() # Displays in false colors"
   ]
  },
  {
   "cell_type": "code",
   "execution_count": 27,
   "metadata": {
    "collapsed": false
   },
   "outputs": [
    {
     "data": {
      "text/plain": [
       "<matplotlib.image.AxesImage at 0x1185d55f8>"
      ]
     },
     "execution_count": 27,
     "metadata": {},
     "output_type": "execute_result"
    }
   ],
   "source": [
    "# Fix the false colors show above by specifying a colormap\n",
    "plb.imshow(face, cmap=plb.cm.gray)"
   ]
  },
  {
   "cell_type": "code",
   "execution_count": 28,
   "metadata": {
    "collapsed": true
   },
   "outputs": [],
   "source": [
    "plb.show()"
   ]
  },
  {
   "cell_type": "code",
   "execution_count": 29,
   "metadata": {
    "collapsed": false
   },
   "outputs": [
    {
     "data": {
      "text/plain": [
       "<matplotlib.image.AxesImage at 0x118643160>"
      ]
     },
     "execution_count": 29,
     "metadata": {},
     "output_type": "execute_result"
    }
   ],
   "source": [
    "# Narrower centering: crop the image by 100px on all sides\n",
    "crop_face = face[100:-100, 100:-100]\n",
    "plb.imshow(crop_face, cmap=plb.cm.gray)"
   ]
  },
  {
   "cell_type": "code",
   "execution_count": 30,
   "metadata": {
    "collapsed": true
   },
   "outputs": [],
   "source": [
    "plb.show()"
   ]
  },
  {
   "cell_type": "code",
   "execution_count": 31,
   "metadata": {
    "collapsed": false
   },
   "outputs": [
    {
     "name": "stdout",
     "output_type": "stream",
     "text": [
      "((1, 1024), (768, 1))\n"
     ]
    },
    {
     "data": {
      "text/plain": [
       "<matplotlib.image.AxesImage at 0x1186a5dd8>"
      ]
     },
     "execution_count": 31,
     "metadata": {},
     "output_type": "execute_result"
    }
   ],
   "source": [
    "# Now, frame the face in a circle, with the rest of the image area colored black\n",
    "# a. create a mask for the pixels that should be black\n",
    "#    The face is around (660, 300), so we define the mask to be outside the circle described by a circle centered at\n",
    "#    (y - 300)**2 + (x - 660)**2 (the end of that line) and define the radius to be 230**2\n",
    "sy, sx = face.shape\n",
    "y, x = np.ogrid[0:sy, 0:sx]\n",
    "print((x.shape, y.shape))\n",
    "centerx, centery = (660, 300) # where the supposed center of the face is located (will be the center of the circle)\n",
    "mask = ((y - centery)**2 + (x - centerx)**2) > 230**2\n",
    "face[mask] = 0 # convert the coordinates in `mask` to 0, which makes them black\n",
    "plb.imshow(face)"
   ]
  },
  {
   "cell_type": "code",
   "execution_count": 32,
   "metadata": {
    "collapsed": true
   },
   "outputs": [],
   "source": [
    "plb.show()"
   ]
  },
  {
   "cell_type": "code",
   "execution_count": null,
   "metadata": {
    "collapsed": false
   },
   "outputs": [
    {
     "data": {
      "text/plain": [
       "<matplotlib.image.AxesImage at 0x122589be0>"
      ]
     },
     "execution_count": 68,
     "metadata": {},
     "output_type": "execute_result"
    }
   ],
   "source": [
    "# The next instruction is to make the circle a 3D ellipsoid, but that makes no sense on a 2D image, so I'm assuming the\n",
    "# author meant `ellipse`.\n",
    "\n",
    "face = misc.face(gray=True)\n",
    "# To create an elipse, you need 2 foci equidistant from the center where the circumference of the elipse is the set of\n",
    "# points drawn by keeping the sum of the distances from both foci constant.\n",
    "# The length of each radii is given by (x / a)**2 and (y / b)**2 where their sum == 1.\n",
    "sy, sx = face.shape\n",
    "y, x = np.ogrid[0:sy, 0:sx]\n",
    "centerx, centery = (660, 350)\n",
    "mask = (((y - centery) / 140)**2 + ((x - centerx) / 200)**2) > 1\n",
    "face[mask] = 0\n",
    "plb.imshow(face)"
   ]
  },
  {
   "cell_type": "code",
   "execution_count": null,
   "metadata": {
    "collapsed": true
   },
   "outputs": [],
   "source": [
    "plb.show()"
   ]
  },
  {
   "cell_type": "code",
   "execution_count": null,
   "metadata": {
    "collapsed": true
   },
   "outputs": [],
   "source": []
  }
 ],
 "metadata": {
  "kernelspec": {
   "display_name": "Python 3",
   "language": "python",
   "name": "python3"
  },
  "language_info": {
   "codemirror_mode": {
    "name": "ipython",
    "version": 3
   },
   "file_extension": ".py",
   "mimetype": "text/x-python",
   "name": "python",
   "nbconvert_exporter": "python",
   "pygments_lexer": "ipython3",
   "version": "3.5.0"
  }
 },
 "nbformat": 4,
 "nbformat_minor": 0
}
