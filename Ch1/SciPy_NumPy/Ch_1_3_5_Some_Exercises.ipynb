{
 "cells": [
  {
   "cell_type": "code",
   "execution_count": 1,
   "metadata": {
    "collapsed": true
   },
   "outputs": [],
   "source": [
    "import numpy as np"
   ]
  },
  {
   "cell_type": "code",
   "execution_count": 2,
   "metadata": {
    "collapsed": false
   },
   "outputs": [
    {
     "data": {
      "text/plain": [
       "array([[ 1,  6, 11],\n",
       "       [ 2,  7, 12],\n",
       "       [ 3,  8, 13],\n",
       "       [ 4,  9, 14],\n",
       "       [ 5, 10, 15]])"
      ]
     },
     "execution_count": 2,
     "metadata": {},
     "output_type": "execute_result"
    }
   ],
   "source": [
    "# 1.\n",
    "# Form the following 2D array using NumPy fxns.\n",
    "# [[1,  6, 11],\n",
    "#  [2,  7, 12],\n",
    "#  [3,  8, 13],\n",
    "#  [4,  9, 14],\n",
    "#  [5, 10, 15]]\n",
    "\n",
    "mat = np.arange(1,16).reshape((3,5)).T\n",
    "mat"
   ]
  },
  {
   "cell_type": "code",
   "execution_count": 3,
   "metadata": {
    "collapsed": false
   },
   "outputs": [
    {
     "data": {
      "text/plain": [
       "array([[ 2,  7, 12],\n",
       "       [ 4,  9, 14]])"
      ]
     },
     "execution_count": 3,
     "metadata": {},
     "output_type": "execute_result"
    }
   ],
   "source": [
    "# Also, create a second array which contains only the 2nd and 4th rows.\n",
    "new_mat = mat[[1,3]]\n",
    "new_mat"
   ]
  },
  {
   "cell_type": "code",
   "execution_count": 4,
   "metadata": {
    "collapsed": false
   },
   "outputs": [
    {
     "data": {
      "text/plain": [
       "array([[ 0.        ,  1.        ,  2.        ,  3.        ,  4.        ],\n",
       "       [ 1.        ,  1.2       ,  1.4       ,  1.6       ,  1.8       ],\n",
       "       [ 1.        ,  1.1       ,  1.2       ,  1.3       ,  1.4       ],\n",
       "       [ 1.        ,  1.06666667,  1.13333333,  1.2       ,  1.26666667],\n",
       "       [ 1.        ,  1.05      ,  1.1       ,  1.15      ,  1.2       ]])"
      ]
     },
     "execution_count": 4,
     "metadata": {},
     "output_type": "execute_result"
    }
   ],
   "source": [
    "# 2.\n",
    "# Divide each column of the array np.arange(25).reshape(5,5) elementwise with the array [1., 5, 15, 20]\n",
    "mat = np.arange(25).reshape(5,5)\n",
    "arr = np.array([1., 5, 10, 15, 20])\n",
    "mat / arr[:, np.newaxis]\n",
    "# New access turns the arr which is a row into a column - autobroadcasting handles propogating the row across all the\n",
    "# columns of mat."
   ]
  },
  {
   "cell_type": "code",
   "execution_count": 6,
   "metadata": {
    "collapsed": true
   },
   "outputs": [],
   "source": [
    "# 3.\n",
    "# Generate a 10 x 3 matrix of random numbers in the Set [0,1].  For each row, choose the number closest to 0.5.\n",
    "#   Additional instructions: use `abs` and `argsort` to pick the column j of the closest number to 0.5 for each row\n",
    "#                            Use fancy indexing to extract the numbers"
   ]
  },
  {
   "cell_type": "code",
   "execution_count": 47,
   "metadata": {
    "collapsed": false
   },
   "outputs": [
    {
     "name": "stdout",
     "output_type": "stream",
     "text": [
      "[[ 0.71734029  0.03597785  0.12945157]\n",
      " [ 0.85574884  0.43705871  0.58043617]\n",
      " [ 0.76739054  0.61570864  0.62498967]\n",
      " [ 0.51686953  0.71710744  0.57047811]\n",
      " [ 0.84399185  0.81771106  0.89670084]\n",
      " [ 0.20211826  0.41451459  0.65329654]\n",
      " [ 0.8458387   0.67235007  0.08232822]\n",
      " [ 0.72678461  0.7072841   0.14965203]\n",
      " [ 0.75954905  0.64691586  0.96549302]\n",
      " [ 0.27130298  0.38191204  0.55123423]]\n",
      "[[ 0.21734029  0.46402215  0.37054843]\n",
      " [ 0.35574884  0.06294129  0.08043617]\n",
      " [ 0.26739054  0.11570864  0.12498967]\n",
      " [ 0.01686953  0.21710744  0.07047811]\n",
      " [ 0.34399185  0.31771106  0.39670084]\n",
      " [ 0.29788174  0.08548541  0.15329654]\n",
      " [ 0.3458387   0.17235007  0.41767178]\n",
      " [ 0.22678461  0.2072841   0.35034797]\n",
      " [ 0.25954905  0.14691586  0.46549302]\n",
      " [ 0.22869702  0.11808796  0.05123423]]\n",
      "[[0 2 1]\n",
      " [1 2 0]\n",
      " [1 2 0]\n",
      " [0 2 1]\n",
      " [1 0 2]\n",
      " [1 2 0]\n",
      " [1 0 2]\n",
      " [1 0 2]\n",
      " [1 0 2]\n",
      " [2 1 0]]\n"
     ]
    },
    {
     "data": {
      "text/plain": [
       "[0.71734029087506546,\n",
       " 0.58043617273179304,\n",
       " 0.62498966653410271,\n",
       " 0.51686953106946998,\n",
       " 0.81771106101773938,\n",
       " 0.65329653683550826,\n",
       " 0.67235007332267938,\n",
       " 0.70728410065717418,\n",
       " 0.6469158595466219,\n",
       " 0.55123423006270589]"
      ]
     },
     "execution_count": 47,
     "metadata": {},
     "output_type": "execute_result"
    }
   ],
   "source": [
    "mat = np.random.sample((10,3))\n",
    "print(mat)\n",
    "distances_from_half = np.abs(mat - 0.5)\n",
    "print(distances_from_half)\n",
    "sort_values = distances_from_half.argsort()\n",
    "print(sort_values)\n",
    "closest_indices = np.where(sort_values == 0)\n",
    "closest_index_pairs = zip(closest_indices[0], closest_indices[1])\n",
    "closest_numbers = [ mat[i[0], i[1]] for i in closest_index_pairs]\n",
    "closest_numbers"
   ]
  },
  {
   "cell_type": "code",
   "execution_count": 48,
   "metadata": {
    "collapsed": false
   },
   "outputs": [],
   "source": [
    "np.argsort?"
   ]
  },
  {
   "cell_type": "code",
   "execution_count": null,
   "metadata": {
    "collapsed": true
   },
   "outputs": [],
   "source": []
  }
 ],
 "metadata": {
  "kernelspec": {
   "display_name": "Python 3",
   "language": "python",
   "name": "python3"
  },
  "language_info": {
   "codemirror_mode": {
    "name": "ipython",
    "version": 3
   },
   "file_extension": ".py",
   "mimetype": "text/x-python",
   "name": "python",
   "nbconvert_exporter": "python",
   "pygments_lexer": "ipython3",
   "version": "3.5.0"
  }
 },
 "nbformat": 4,
 "nbformat_minor": 0
}
