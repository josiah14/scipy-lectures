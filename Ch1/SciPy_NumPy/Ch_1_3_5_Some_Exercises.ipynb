{
 "cells": [
  {
   "cell_type": "code",
   "execution_count": 1,
   "metadata": {
    "collapsed": true
   },
   "outputs": [],
   "source": [
    "import numpy as np"
   ]
  },
  {
   "cell_type": "code",
   "execution_count": 2,
   "metadata": {
    "collapsed": false
   },
   "outputs": [
    {
     "data": {
      "text/plain": [
       "array([[ 1,  6, 11],\n",
       "       [ 2,  7, 12],\n",
       "       [ 3,  8, 13],\n",
       "       [ 4,  9, 14],\n",
       "       [ 5, 10, 15]])"
      ]
     },
     "execution_count": 2,
     "metadata": {},
     "output_type": "execute_result"
    }
   ],
   "source": [
    "# 1.\n",
    "# Form the following 2D array using NumPy fxns.\n",
    "# [[1,  6, 11],\n",
    "#  [2,  7, 12],\n",
    "#  [3,  8, 13],\n",
    "#  [4,  9, 14],\n",
    "#  [5, 10, 15]]\n",
    "\n",
    "mat = np.arange(1,16).reshape((3,5)).T\n",
    "mat"
   ]
  },
  {
   "cell_type": "code",
   "execution_count": 3,
   "metadata": {
    "collapsed": false
   },
   "outputs": [
    {
     "data": {
      "text/plain": [
       "array([[ 2,  7, 12],\n",
       "       [ 4,  9, 14]])"
      ]
     },
     "execution_count": 3,
     "metadata": {},
     "output_type": "execute_result"
    }
   ],
   "source": [
    "# Also, create a second array which contains only the 2nd and 4th rows.\n",
    "new_mat = mat[[1,3]]\n",
    "new_mat"
   ]
  },
  {
   "cell_type": "code",
   "execution_count": 4,
   "metadata": {
    "collapsed": false
   },
   "outputs": [
    {
     "data": {
      "text/plain": [
       "array([[ 0.        ,  1.        ,  2.        ,  3.        ,  4.        ],\n",
       "       [ 1.        ,  1.2       ,  1.4       ,  1.6       ,  1.8       ],\n",
       "       [ 1.        ,  1.1       ,  1.2       ,  1.3       ,  1.4       ],\n",
       "       [ 1.        ,  1.06666667,  1.13333333,  1.2       ,  1.26666667],\n",
       "       [ 1.        ,  1.05      ,  1.1       ,  1.15      ,  1.2       ]])"
      ]
     },
     "execution_count": 4,
     "metadata": {},
     "output_type": "execute_result"
    }
   ],
   "source": [
    "# 2.\n",
    "# Divide each column of the array np.arange(25).reshape(5,5) elementwise with the array [1., 5, 15, 20]\n",
    "mat = np.arange(25).reshape(5,5)\n",
    "arr = np.array([1., 5, 10, 15, 20])\n",
    "mat / arr[:, np.newaxis]\n",
    "# New access turns the arr which is a row into a column - autobroadcasting handles propogating the row across all the\n",
    "# columns of mat."
   ]
  },
  {
   "cell_type": "code",
   "execution_count": 5,
   "metadata": {
    "collapsed": true
   },
   "outputs": [],
   "source": [
    "# 3.\n",
    "# Generate a 10 x 3 matrix of random numbers in the Set [0,1].  For each row, choose the number closest to 0.5.\n",
    "#   Additional instructions: use `abs` and `argsort` to pick the column j of the closest number to 0.5 for each row\n",
    "#                            Use fancy indexing to extract the numbers"
   ]
  },
  {
   "cell_type": "code",
   "execution_count": 6,
   "metadata": {
    "collapsed": false
   },
   "outputs": [
    {
     "name": "stdout",
     "output_type": "stream",
     "text": [
      "[[ 0.37982368  0.15979191  0.6666393 ]\n",
      " [ 0.49172608  0.22427759  0.63270175]\n",
      " [ 0.54337912  0.30239876  0.37588553]\n",
      " [ 0.56588004  0.21052147  0.67148153]\n",
      " [ 0.85813839  0.44100763  0.2333871 ]\n",
      " [ 0.15869359  0.57047259  0.81876425]\n",
      " [ 0.27705154  0.83060062  0.62361692]\n",
      " [ 0.43456765  0.57272231  0.00844132]\n",
      " [ 0.10833938  0.19480763  0.25772459]\n",
      " [ 0.02098086  0.08744714  0.66409939]]\n",
      "[[ 0.12017632  0.34020809  0.1666393 ]\n",
      " [ 0.00827392  0.27572241  0.13270175]\n",
      " [ 0.04337912  0.19760124  0.12411447]\n",
      " [ 0.06588004  0.28947853  0.17148153]\n",
      " [ 0.35813839  0.05899237  0.2666129 ]\n",
      " [ 0.34130641  0.07047259  0.31876425]\n",
      " [ 0.22294846  0.33060062  0.12361692]\n",
      " [ 0.06543235  0.07272231  0.49155868]\n",
      " [ 0.39166062  0.30519237  0.24227541]\n",
      " [ 0.47901914  0.41255286  0.16409939]]\n",
      "[[0 2 1]\n",
      " [0 2 1]\n",
      " [0 2 1]\n",
      " [0 2 1]\n",
      " [1 2 0]\n",
      " [1 2 0]\n",
      " [2 0 1]\n",
      " [0 1 2]\n",
      " [2 1 0]\n",
      " [2 1 0]]\n"
     ]
    },
    {
     "data": {
      "text/plain": [
       "[0.37982367767966707,\n",
       " 0.49172608293976838,\n",
       " 0.54337912299281499,\n",
       " 0.56588004094619082,\n",
       " 0.44100762920831338,\n",
       " 0.57047259098459013,\n",
       " 0.6236169203154206,\n",
       " 0.43456764902368072,\n",
       " 0.25772458914919227,\n",
       " 0.66409938773647581]"
      ]
     },
     "execution_count": 6,
     "metadata": {},
     "output_type": "execute_result"
    }
   ],
   "source": [
    "mat = np.random.sample((10,3))\n",
    "print(mat)\n",
    "distances_from_half = np.abs(mat - 0.5)\n",
    "print(distances_from_half)\n",
    "sort_values = np.argsort(distances_from_half)\n",
    "print(sort_values)\n",
    "closest_indices = sort_values\n",
    "closest_index_pairs = [ (i, sort_values[i, 0]) for i in np.arange(0, sort_values.shape[0]) ]\n",
    "closest_numbers = [ mat[i[0], i[1]] for i in closest_index_pairs ]\n",
    "closest_numbers"
   ]
  },
  {
   "cell_type": "code",
   "execution_count": 7,
   "metadata": {
    "collapsed": true
   },
   "outputs": [],
   "source": [
    "# 4. Picture Manipulation: Framing a Face"
   ]
  },
  {
   "cell_type": "code",
   "execution_count": 8,
   "metadata": {
    "collapsed": true
   },
   "outputs": [],
   "source": [
    "from scipy import misc\n",
    "face = misc.face(gray=True)"
   ]
  },
  {
   "cell_type": "code",
   "execution_count": 9,
   "metadata": {
    "collapsed": false
   },
   "outputs": [
    {
     "data": {
      "text/plain": [
       "<matplotlib.image.AxesImage at 0x116cc9ef0>"
      ]
     },
     "execution_count": 9,
     "metadata": {},
     "output_type": "execute_result"
    }
   ],
   "source": [
    "# use PyLab's imshow fxn to display the image as-is\n",
    "import pylab as plb\n",
    "plb.imshow(face)"
   ]
  },
  {
   "cell_type": "code",
   "execution_count": 10,
   "metadata": {
    "collapsed": true
   },
   "outputs": [],
   "source": [
    "plb.show() # Displays in false colors"
   ]
  },
  {
   "cell_type": "code",
   "execution_count": 11,
   "metadata": {
    "collapsed": false
   },
   "outputs": [
    {
     "data": {
      "text/plain": [
       "<matplotlib.image.AxesImage at 0x1184b8390>"
      ]
     },
     "execution_count": 11,
     "metadata": {},
     "output_type": "execute_result"
    }
   ],
   "source": [
    "# Fix the false colors show above by specifying a colormap\n",
    "plb.imshow(face, cmap=plb.cm.gray)"
   ]
  },
  {
   "cell_type": "code",
   "execution_count": 12,
   "metadata": {
    "collapsed": true
   },
   "outputs": [],
   "source": [
    "plb.show()"
   ]
  },
  {
   "cell_type": "code",
   "execution_count": 13,
   "metadata": {
    "collapsed": false
   },
   "outputs": [
    {
     "data": {
      "text/plain": [
       "<matplotlib.image.AxesImage at 0x118823d68>"
      ]
     },
     "execution_count": 13,
     "metadata": {},
     "output_type": "execute_result"
    }
   ],
   "source": [
    "# Narrower centering: crop the image by 100px on all sides\n",
    "crop_face = face[100:-100, 100:-100]\n",
    "plb.imshow(crop_face, cmap=plb.cm.gray)"
   ]
  },
  {
   "cell_type": "code",
   "execution_count": 14,
   "metadata": {
    "collapsed": true
   },
   "outputs": [],
   "source": [
    "plb.show()"
   ]
  },
  {
   "cell_type": "code",
   "execution_count": 15,
   "metadata": {
    "collapsed": false
   },
   "outputs": [
    {
     "name": "stdout",
     "output_type": "stream",
     "text": [
      "((1, 1024), (768, 1))\n"
     ]
    },
    {
     "data": {
      "text/plain": [
       "<matplotlib.image.AxesImage at 0x118895470>"
      ]
     },
     "execution_count": 15,
     "metadata": {},
     "output_type": "execute_result"
    }
   ],
   "source": [
    "# Now, frame the face in a circle, with the rest of the image area colored black\n",
    "# a. create a mask for the pixels that should be black\n",
    "#    The face is around (660, 300), so we define the mask to be outside the circle described by a circle centered at\n",
    "#    (y - 300)**2 + (x - 660)**2 (the end of that line) and define the radius to be 230**2\n",
    "sy, sx = face.shape\n",
    "y, x = np.ogrid[0:sy, 0:sx]\n",
    "print((x.shape, y.shape))\n",
    "centerx, centery = (660, 300) # where the supposed center of the face is located (will be the center of the circle)\n",
    "mask = ((y - centery)**2 + (x - centerx)**2) > 230**2\n",
    "face[mask] = 0 # convert the coordinates in `mask` to 0, which makes them black\n",
    "plb.imshow(face)"
   ]
  },
  {
   "cell_type": "code",
   "execution_count": 16,
   "metadata": {
    "collapsed": true
   },
   "outputs": [],
   "source": [
    "plb.show()"
   ]
  },
  {
   "cell_type": "code",
   "execution_count": 17,
   "metadata": {
    "collapsed": false
   },
   "outputs": [
    {
     "data": {
      "text/plain": [
       "<matplotlib.image.AxesImage at 0x112c20780>"
      ]
     },
     "execution_count": 17,
     "metadata": {},
     "output_type": "execute_result"
    }
   ],
   "source": [
    "# The next instruction is to make the circle a 3D ellipsoid, but that makes no sense on a 2D image, so I'm assuming the\n",
    "# author meant `ellipse`.\n",
    "\n",
    "face = misc.face(gray=True)\n",
    "# To create an elipse, you need 2 foci equidistant from the center where the circumference of the elipse is the set of\n",
    "# points drawn by keeping the sum of the distances from both foci constant.\n",
    "# The length of each radii is given by (x / a)**2 and (y / b)**2 where their sum == 1.\n",
    "sy, sx = face.shape\n",
    "y, x = np.ogrid[0:sy, 0:sx]\n",
    "centerx, centery = (660, 350)\n",
    "mask = (((y - centery) / 140)**2 + ((x - centerx) / 200)**2) > 1\n",
    "face[mask] = 0\n",
    "plb.imshow(face)"
   ]
  },
  {
   "cell_type": "code",
   "execution_count": 18,
   "metadata": {
    "collapsed": true
   },
   "outputs": [],
   "source": [
    "plb.show()"
   ]
  },
  {
   "cell_type": "code",
   "execution_count": null,
   "metadata": {
    "collapsed": true
   },
   "outputs": [],
   "source": []
  },
  {
   "cell_type": "code",
   "execution_count": 19,
   "metadata": {
    "collapsed": true
   },
   "outputs": [],
   "source": [
    "# Data statistics"
   ]
  },
  {
   "cell_type": "code",
   "execution_count": null,
   "metadata": {
    "collapsed": true
   },
   "outputs": [],
   "source": []
  },
  {
   "cell_type": "code",
   "execution_count": 20,
   "metadata": {
    "collapsed": false
   },
   "outputs": [
    {
     "data": {
      "text/plain": [
       "array([[  1900.,  30000.,   4000.,  48300.],\n",
       "       [  1901.,  47200.,   6100.,  48200.],\n",
       "       [  1902.,  70200.,   9800.,  41500.],\n",
       "       [  1903.,  77400.,  35200.,  38200.],\n",
       "       [  1904.,  36300.,  59400.,  40600.],\n",
       "       [  1905.,  20600.,  41700.,  39800.],\n",
       "       [  1906.,  18100.,  19000.,  38600.],\n",
       "       [  1907.,  21400.,  13000.,  42300.],\n",
       "       [  1908.,  22000.,   8300.,  44500.],\n",
       "       [  1909.,  25400.,   9100.,  42100.],\n",
       "       [  1910.,  27100.,   7400.,  46000.],\n",
       "       [  1911.,  40300.,   8000.,  46800.],\n",
       "       [  1912.,  57000.,  12300.,  43800.],\n",
       "       [  1913.,  76600.,  19500.,  40900.],\n",
       "       [  1914.,  52300.,  45700.,  39400.],\n",
       "       [  1915.,  19500.,  51100.,  39000.],\n",
       "       [  1916.,  11200.,  29700.,  36700.],\n",
       "       [  1917.,   7600.,  15800.,  41800.],\n",
       "       [  1918.,  14600.,   9700.,  43300.],\n",
       "       [  1919.,  16200.,  10100.,  41300.],\n",
       "       [  1920.,  24700.,   8600.,  47300.]])"
      ]
     },
     "execution_count": 20,
     "metadata": {},
     "output_type": "execute_result"
    }
   ],
   "source": [
    "data = np.loadtxt('data/populations.txt')\n",
    "data"
   ]
  },
  {
   "cell_type": "code",
   "execution_count": 21,
   "metadata": {
    "collapsed": true
   },
   "outputs": [],
   "source": [
    "year, hares, lynxes, carrots = data.T"
   ]
  },
  {
   "cell_type": "code",
   "execution_count": 22,
   "metadata": {
    "collapsed": false
   },
   "outputs": [],
   "source": [
    "import matplotlib.pyplot as plt"
   ]
  },
  {
   "cell_type": "code",
   "execution_count": 23,
   "metadata": {
    "collapsed": false
   },
   "outputs": [
    {
     "data": {
      "text/plain": [
       "<matplotlib.axes._axes.Axes at 0x112c2b860>"
      ]
     },
     "execution_count": 23,
     "metadata": {},
     "output_type": "execute_result"
    }
   ],
   "source": [
    "plt.axes([0.2, 0.1, 0.5, 0.8])"
   ]
  },
  {
   "cell_type": "code",
   "execution_count": 24,
   "metadata": {
    "collapsed": false
   },
   "outputs": [
    {
     "data": {
      "text/plain": [
       "[<matplotlib.lines.Line2D at 0x112c858d0>,\n",
       " <matplotlib.lines.Line2D at 0x112c85a58>,\n",
       " <matplotlib.lines.Line2D at 0x1126ceb70>]"
      ]
     },
     "execution_count": 24,
     "metadata": {},
     "output_type": "execute_result"
    }
   ],
   "source": [
    "plt.plot(year, hares, year, lynxes, year, carrots)"
   ]
  },
  {
   "cell_type": "code",
   "execution_count": 25,
   "metadata": {
    "collapsed": false
   },
   "outputs": [
    {
     "data": {
      "text/plain": [
       "<matplotlib.legend.Legend at 0x1126d54a8>"
      ]
     },
     "execution_count": 25,
     "metadata": {},
     "output_type": "execute_result"
    }
   ],
   "source": [
    "plt.legend(('Hare', 'Lynx', 'Carrot'), loc=(1.05, 0.5))"
   ]
  },
  {
   "cell_type": "code",
   "execution_count": 26,
   "metadata": {
    "collapsed": false
   },
   "outputs": [],
   "source": [
    "plt.show()"
   ]
  },
  {
   "cell_type": "code",
   "execution_count": 27,
   "metadata": {
    "collapsed": true
   },
   "outputs": [],
   "source": [
    "# Exercises"
   ]
  },
  {
   "cell_type": "code",
   "execution_count": 28,
   "metadata": {
    "collapsed": false
   },
   "outputs": [
    {
     "data": {
      "text/plain": [
       "array([[ 30000.,   4000.,  48300.],\n",
       "       [ 47200.,   6100.,  48200.],\n",
       "       [ 70200.,   9800.,  41500.],\n",
       "       [ 77400.,  35200.,  38200.],\n",
       "       [ 36300.,  59400.,  40600.],\n",
       "       [ 20600.,  41700.,  39800.],\n",
       "       [ 18100.,  19000.,  38600.],\n",
       "       [ 21400.,  13000.,  42300.],\n",
       "       [ 22000.,   8300.,  44500.],\n",
       "       [ 25400.,   9100.,  42100.],\n",
       "       [ 27100.,   7400.,  46000.],\n",
       "       [ 40300.,   8000.,  46800.],\n",
       "       [ 57000.,  12300.,  43800.],\n",
       "       [ 76600.,  19500.,  40900.],\n",
       "       [ 52300.,  45700.,  39400.],\n",
       "       [ 19500.,  51100.,  39000.],\n",
       "       [ 11200.,  29700.,  36700.],\n",
       "       [  7600.,  15800.,  41800.],\n",
       "       [ 14600.,   9700.,  43300.],\n",
       "       [ 16200.,  10100.,  41300.],\n",
       "       [ 24700.,   8600.,  47300.]])"
      ]
     },
     "execution_count": 28,
     "metadata": {},
     "output_type": "execute_result"
    }
   ],
   "source": [
    "populations = data[:,1:]\n",
    "populations"
   ]
  },
  {
   "cell_type": "code",
   "execution_count": 29,
   "metadata": {
    "collapsed": false
   },
   "outputs": [
    {
     "data": {
      "text/plain": [
       "array([ 34080.95238095,  20166.66666667,  42400.        ])"
      ]
     },
     "execution_count": 29,
     "metadata": {},
     "output_type": "execute_result"
    }
   ],
   "source": [
    "populations.mean(axis=0)"
   ]
  },
  {
   "cell_type": "code",
   "execution_count": 30,
   "metadata": {
    "collapsed": false
   },
   "outputs": [
    {
     "data": {
      "text/plain": [
       "array([ 20897.90645809,  16254.59153691,   3322.50622558])"
      ]
     },
     "execution_count": 30,
     "metadata": {},
     "output_type": "execute_result"
    }
   ],
   "source": [
    "populations.std(axis=0)"
   ]
  },
  {
   "cell_type": "code",
   "execution_count": 31,
   "metadata": {
    "collapsed": false
   },
   "outputs": [
    {
     "data": {
      "text/plain": [
       "array([ 1903.,  1904.,  1900.])"
      ]
     },
     "execution_count": 31,
     "metadata": {},
     "output_type": "execute_result"
    }
   ],
   "source": [
    "largest_pop_year_index = np.argmax(populations, axis=0)\n",
    "year[largest_pop_year_index]"
   ]
  },
  {
   "cell_type": "code",
   "execution_count": 32,
   "metadata": {
    "collapsed": false
   },
   "outputs": [
    {
     "data": {
      "text/plain": [
       "array([2, 2, 0, 0, 1, 1, 2, 2, 2, 2, 2, 2, 0, 0, 0, 1, 2, 2, 2, 2, 2])"
      ]
     },
     "execution_count": 32,
     "metadata": {},
     "output_type": "execute_result"
    }
   ],
   "source": [
    "max_pop_species_by_year = np.argmax(populations, axis=1)\n",
    "max_pop_species_by_year"
   ]
  },
  {
   "cell_type": "code",
   "execution_count": 33,
   "metadata": {
    "collapsed": false
   },
   "outputs": [
    {
     "data": {
      "text/plain": [
       "array(['Carrot', 'Carrot', 'Hare', 'Hare', 'Lynx', 'Lynx', 'Carrot',\n",
       "       'Carrot', 'Carrot', 'Carrot', 'Carrot', 'Carrot', 'Hare', 'Hare',\n",
       "       'Hare', 'Lynx', 'Carrot', 'Carrot', 'Carrot', 'Carrot', 'Carrot'], \n",
       "      dtype='<U6')"
      ]
     },
     "execution_count": 33,
     "metadata": {},
     "output_type": "execute_result"
    }
   ],
   "source": [
    "np.array(['Hare', 'Lynx', 'Carrot'])[max_pop_species_by_year]"
   ]
  },
  {
   "cell_type": "code",
   "execution_count": 34,
   "metadata": {
    "collapsed": false
   },
   "outputs": [
    {
     "data": {
      "text/plain": [
       "[('Carrot', 1900.0),\n",
       " ('Carrot', 1901.0),\n",
       " ('Hare', 1902.0),\n",
       " ('Hare', 1903.0),\n",
       " ('Lynx', 1904.0),\n",
       " ('Lynx', 1905.0),\n",
       " ('Carrot', 1906.0),\n",
       " ('Carrot', 1907.0),\n",
       " ('Carrot', 1908.0),\n",
       " ('Carrot', 1909.0),\n",
       " ('Carrot', 1910.0),\n",
       " ('Carrot', 1911.0),\n",
       " ('Hare', 1912.0),\n",
       " ('Hare', 1913.0),\n",
       " ('Hare', 1914.0),\n",
       " ('Lynx', 1915.0),\n",
       " ('Carrot', 1916.0),\n",
       " ('Carrot', 1917.0),\n",
       " ('Carrot', 1918.0),\n",
       " ('Carrot', 1919.0),\n",
       " ('Carrot', 1920.0)]"
      ]
     },
     "execution_count": 34,
     "metadata": {},
     "output_type": "execute_result"
    }
   ],
   "source": [
    "list(zip(np.array(['Hare', 'Lynx', 'Carrot'])[max_pop_species_by_year], year))"
   ]
  },
  {
   "cell_type": "code",
   "execution_count": 35,
   "metadata": {
    "collapsed": false
   },
   "outputs": [
    {
     "data": {
      "text/plain": [
       "array([ 1902.,  1903.,  1904.,  1912.,  1913.,  1914.,  1915.])"
      ]
     },
     "execution_count": 35,
     "metadata": {},
     "output_type": "execute_result"
    }
   ],
   "source": [
    "above50000 = np.any(populations > 50000, axis=1)\n",
    "year[above50000]"
   ]
  },
  {
   "cell_type": "code",
   "execution_count": 36,
   "metadata": {
    "collapsed": false
   },
   "outputs": [
    {
     "data": {
      "text/plain": [
       "array([[17,  0, 16],\n",
       "       [16,  1,  3]])"
      ]
     },
     "execution_count": 36,
     "metadata": {},
     "output_type": "execute_result"
    }
   ],
   "source": [
    "top_2_yrs_lowest_pop_each_species_idx = np.argsort(populations, axis=0)[:2]\n",
    "top_2_yrs_lowest_pop_each_species_idx"
   ]
  },
  {
   "cell_type": "code",
   "execution_count": 37,
   "metadata": {
    "collapsed": false
   },
   "outputs": [
    {
     "data": {
      "text/plain": [
       "array([[ 1917.,  1900.,  1916.],\n",
       "       [ 1916.,  1901.,  1903.]])"
      ]
     },
     "execution_count": 37,
     "metadata": {},
     "output_type": "execute_result"
    }
   ],
   "source": [
    "year[top_2_yrs_lowest_pop_each_species_idx]"
   ]
  },
  {
   "cell_type": "code",
   "execution_count": 38,
   "metadata": {
    "collapsed": false
   },
   "outputs": [
    {
     "data": {
      "text/plain": [
       "array([ 17200.,  20100.,  15100., -16950., -28400.,  -9100.,    400.,\n",
       "         1950.,   2000.,   2550.,   7450.,  14950.,  18150.,  -2350.,\n",
       "       -28550., -20550.,  -5950.,   1700.,   4300.,   5050.,   8500.])"
      ]
     },
     "execution_count": 38,
     "metadata": {},
     "output_type": "execute_result"
    }
   ],
   "source": [
    "hare_grad = np.gradient(hares, 1.0)\n",
    "hare_grad"
   ]
  },
  {
   "cell_type": "code",
   "execution_count": 39,
   "metadata": {
    "collapsed": false
   },
   "outputs": [
    {
     "data": {
      "text/plain": [
       "-0.91792484803153407"
      ]
     },
     "execution_count": 39,
     "metadata": {},
     "output_type": "execute_result"
    }
   ],
   "source": [
    "hares_vs_lynx_correlation = np.corrcoef(hare_grad, lynxes)[0,1]\n",
    "hares_vs_lynx_correlation"
   ]
  },
  {
   "cell_type": "code",
   "execution_count": 40,
   "metadata": {
    "collapsed": true
   },
   "outputs": [],
   "source": [
    "plt.plot(year, hare_grad, year, -lynxes)\n",
    "plt.show()"
   ]
  },
  {
   "cell_type": "code",
   "execution_count": null,
   "metadata": {
    "collapsed": true
   },
   "outputs": [],
   "source": []
  },
  {
   "cell_type": "code",
   "execution_count": 41,
   "metadata": {
    "collapsed": true
   },
   "outputs": [],
   "source": [
    "# Crude Integral Approximations"
   ]
  },
  {
   "cell_type": "code",
   "execution_count": null,
   "metadata": {
    "collapsed": true
   },
   "outputs": [],
   "source": []
  },
  {
   "cell_type": "code",
   "execution_count": null,
   "metadata": {
    "collapsed": true
   },
   "outputs": [],
   "source": []
  }
 ],
 "metadata": {
  "kernelspec": {
   "display_name": "Python 3",
   "language": "python",
   "name": "python3"
  },
  "language_info": {
   "codemirror_mode": {
    "name": "ipython",
    "version": 3
   },
   "file_extension": ".py",
   "mimetype": "text/x-python",
   "name": "python",
   "nbconvert_exporter": "python",
   "pygments_lexer": "ipython3",
   "version": "3.5.0"
  }
 },
 "nbformat": 4,
 "nbformat_minor": 0
}
