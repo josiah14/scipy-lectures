{
 "cells": [
  {
   "cell_type": "code",
   "execution_count": 2,
   "metadata": {
    "collapsed": true
   },
   "outputs": [],
   "source": [
    "import numpy as np"
   ]
  },
  {
   "cell_type": "code",
   "execution_count": 7,
   "metadata": {
    "collapsed": false
   },
   "outputs": [
    {
     "name": "stdout",
     "output_type": "stream",
     "text": [
      "[2 3 4 5]\n",
      "[2 4 6 8]\n",
      "[ 1  4  9 16]\n"
     ]
    }
   ],
   "source": [
    "# Scalar ops\n",
    "a = np.array([1,2,3,4])\n",
    "a_plus = a + 1 # scalar addition\n",
    "a_prod = 2*a # scalar multiplication\n",
    "a_exp = a**2 # scalar exponentiation\n",
    "\n",
    "print(a_plus)\n",
    "print(a_prod)\n",
    "print(a_exp)"
   ]
  },
  {
   "cell_type": "code",
   "execution_count": 21,
   "metadata": {
    "collapsed": false
   },
   "outputs": [
    {
     "name": "stdout",
     "output_type": "stream",
     "text": [
      "B = [ 2.  2.  2.  2.]\n",
      "A - B = [-1.  0.  1.  2.]\n",
      "A * B = [ 2.  4.  6.  8.]\n",
      "[ 2  3  6 13 28]\n"
     ]
    }
   ],
   "source": [
    "# All arithetic operates element-wise\n",
    "\n",
    "# Scalar addition (again)\n",
    "b = np.ones(4) + 1\n",
    "print(\"B = \" + str(b))\n",
    "\n",
    "# Vector addition/subtraction\n",
    "a_minus_b = a - b\n",
    "print(\"A - B = \" + str(a_minus_b))\n",
    "\n",
    "# Vector multiplication\n",
    "a_prod_b = a * b\n",
    "print(\"A * B = \" + str(a_prod_b))\n",
    "\n",
    "# Combining multiple operations in a single statement\n",
    "j = np.arange(5)\n",
    "print(2**(j + 1) - j)"
   ]
  },
  {
   "cell_type": "code",
   "execution_count": 22,
   "metadata": {
    "collapsed": false
   },
   "outputs": [
    {
     "name": "stdout",
     "output_type": "stream",
     "text": [
      "The slowest run took 9.71 times longer than the fastest. This could mean that an intermediate result is being cached.\n",
      "100000 loops, best of 3: 5.68 µs per loop\n"
     ]
    }
   ],
   "source": [
    "# Pure Python vs NumPy performance characteristics\n",
    "\n",
    "a = np.arange(10000)\n",
    "%timeit a + 1"
   ]
  },
  {
   "cell_type": "code",
   "execution_count": 25,
   "metadata": {
    "collapsed": false
   },
   "outputs": [
    {
     "name": "stdout",
     "output_type": "stream",
     "text": [
      "1000 loops, best of 3: 684 µs per loop\n"
     ]
    }
   ],
   "source": [
    "l = range(10000)\n",
    "%timeit [i + 1 for i in l]"
   ]
  },
  {
   "cell_type": "code",
   "execution_count": 26,
   "metadata": {
    "collapsed": true
   },
   "outputs": [],
   "source": [
    "# NumPy is much faster"
   ]
  },
  {
   "cell_type": "code",
   "execution_count": 28,
   "metadata": {
    "collapsed": false
   },
   "outputs": [
    {
     "name": "stdout",
     "output_type": "stream",
     "text": [
      "C = \n",
      "[[ 1.  1.  1.]\n",
      " [ 1.  1.  1.]\n",
      " [ 1.  1.  1.]]\n",
      "C * C = \n",
      "[[ 1.  1.  1.]\n",
      " [ 1.  1.  1.]\n",
      " [ 1.  1.  1.]]\n",
      "C dot C = \n",
      "[[ 3.  3.  3.]\n",
      " [ 3.  3.  3.]\n",
      " [ 3.  3.  3.]]\n"
     ]
    }
   ],
   "source": [
    "# Matrix multiplication\n",
    "\n",
    "# ! This is NOT matrix multiplication, it is array multiplication\n",
    "c = np.ones((3,3))\n",
    "print(\"C = \\n\" + str(c))\n",
    "c_array_squared = c * c\n",
    "print(\"C * C = \\n\" + str(c_array_squared))\n",
    "\n",
    "# This IS matrix multiplication (dot product)\n",
    "c_matrix_squared = c.dot(c)\n",
    "print(\"C dot C = \\n\" + str(c_matrix_squared))"
   ]
  },
  {
   "cell_type": "code",
   "execution_count": 75,
   "metadata": {
    "collapsed": false
   },
   "outputs": [
    {
     "name": "stdout",
     "output_type": "stream",
     "text": [
      "Even = [ 0  2  4  6  8 10 12 14 16 18]\n",
      "Odd = [ 1  3  5  7  9 11 13 15 17 19]\n",
      "Even + Odd (element-wise) = [ 1  5  9 13 17 21 25 29 33 37]\n",
      "The slowest run took 11.50 times longer than the fastest. This could mean that an intermediate result is being cached.\n",
      "100000 loops, best of 3: 2.67 µs per loop\n",
      "Even + Odd = [1, 5, 9, 13, 17, 21, 25, 29, 33, 37]\n",
      "100000 loops, best of 3: 12.2 µs per loop\n"
     ]
    }
   ],
   "source": [
    "# Exercises\n",
    "\n",
    "# Add even elements with odd elements\n",
    "x = np.arange(20)\n",
    "even = x[np.arange(0,20,2)]\n",
    "odd = x[np.arange(1,20,2)]\n",
    "print(\"Even = \" + str(even))\n",
    "print(\"Odd = \" + str(odd))\n",
    "print(\"Even + Odd (element-wise) = \" + str(even + odd))\n",
    "%timeit x = np.arange(20); x[np.arange(0,20,2)] + x[np.arange(1,20,2)]\n",
    "def is_even(n): return n % 2 == 0\n",
    "def is_odd(n): return not is_even(n)\n",
    "y = range(20)\n",
    "even_y = filter(is_even, y)\n",
    "odd_y = filter(is_odd, y)\n",
    "print(\"Even + Odd = \" + str([a[0] + a[1] for a in zip(even_y, odd_y)]))\n",
    "%timeit y = range(20); [a[0] + a[1] for a in zip(filter(is_even, y), filter(is_odd, y))]"
   ]
  },
  {
   "cell_type": "code",
   "execution_count": null,
   "metadata": {
    "collapsed": true
   },
   "outputs": [],
   "source": []
  }
 ],
 "metadata": {
  "kernelspec": {
   "display_name": "Python 3",
   "language": "python",
   "name": "python3"
  },
  "language_info": {
   "codemirror_mode": {
    "name": "ipython",
    "version": 3
   },
   "file_extension": ".py",
   "mimetype": "text/x-python",
   "name": "python",
   "nbconvert_exporter": "python",
   "pygments_lexer": "ipython3",
   "version": "3.5.0"
  }
 },
 "nbformat": 4,
 "nbformat_minor": 0
}
