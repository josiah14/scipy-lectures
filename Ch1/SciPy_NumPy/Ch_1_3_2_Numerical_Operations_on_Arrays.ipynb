{
 "cells": [
  {
   "cell_type": "code",
   "execution_count": 2,
   "metadata": {
    "collapsed": true
   },
   "outputs": [],
   "source": [
    "import numpy as np"
   ]
  },
  {
   "cell_type": "code",
   "execution_count": 7,
   "metadata": {},
   "outputs": [
    {
     "name": "stdout",
     "output_type": "stream",
     "text": [
      "[2 3 4 5]\n",
      "[2 4 6 8]\n",
      "[ 1  4  9 16]\n"
     ]
    }
   ],
   "source": [
    "# Scalar ops\n",
    "a = np.array([1,2,3,4])\n",
    "a_plus = a + 1 # scalar addition\n",
    "a_prod = 2*a # scalar multiplication\n",
    "a_exp = a**2 # scalar exponentiation\n",
    "\n",
    "print(a_plus)\n",
    "print(a_prod)\n",
    "print(a_exp)"
   ]
  },
  {
   "cell_type": "code",
   "execution_count": 21,
   "metadata": {},
   "outputs": [
    {
     "name": "stdout",
     "output_type": "stream",
     "text": [
      "B = [ 2.  2.  2.  2.]\n",
      "A - B = [-1.  0.  1.  2.]\n",
      "A * B = [ 2.  4.  6.  8.]\n",
      "[ 2  3  6 13 28]\n"
     ]
    }
   ],
   "source": [
    "# All arithetic operates element-wise\n",
    "\n",
    "# Scalar addition (again)\n",
    "b = np.ones(4) + 1\n",
    "print(\"B = \" + str(b))\n",
    "\n",
    "# Vector addition/subtraction\n",
    "a_minus_b = a - b\n",
    "print(\"A - B = \" + str(a_minus_b))\n",
    "\n",
    "# Vector multiplication\n",
    "a_prod_b = a * b\n",
    "print(\"A * B = \" + str(a_prod_b))\n",
    "\n",
    "# Combining multiple operations in a single statement\n",
    "j = np.arange(5)\n",
    "print(2**(j + 1) - j)"
   ]
  },
  {
   "cell_type": "code",
   "execution_count": 22,
   "metadata": {},
   "outputs": [
    {
     "name": "stdout",
     "output_type": "stream",
     "text": [
      "The slowest run took 9.71 times longer than the fastest. This could mean that an intermediate result is being cached.\n",
      "100000 loops, best of 3: 5.68 µs per loop\n"
     ]
    }
   ],
   "source": [
    "# Pure Python vs NumPy performance characteristics\n",
    "\n",
    "a = np.arange(10000)\n",
    "%timeit a + 1"
   ]
  },
  {
   "cell_type": "code",
   "execution_count": 25,
   "metadata": {},
   "outputs": [
    {
     "name": "stdout",
     "output_type": "stream",
     "text": [
      "1000 loops, best of 3: 684 µs per loop\n"
     ]
    }
   ],
   "source": [
    "l = range(10000)\n",
    "%timeit [i + 1 for i in l]"
   ]
  },
  {
   "cell_type": "code",
   "execution_count": 26,
   "metadata": {
    "collapsed": true
   },
   "outputs": [],
   "source": [
    "# NumPy is much faster"
   ]
  },
  {
   "cell_type": "code",
   "execution_count": 28,
   "metadata": {},
   "outputs": [
    {
     "name": "stdout",
     "output_type": "stream",
     "text": [
      "C = \n",
      "[[ 1.  1.  1.]\n",
      " [ 1.  1.  1.]\n",
      " [ 1.  1.  1.]]\n",
      "C * C = \n",
      "[[ 1.  1.  1.]\n",
      " [ 1.  1.  1.]\n",
      " [ 1.  1.  1.]]\n",
      "C dot C = \n",
      "[[ 3.  3.  3.]\n",
      " [ 3.  3.  3.]\n",
      " [ 3.  3.  3.]]\n"
     ]
    }
   ],
   "source": [
    "# Matrix multiplication\n",
    "\n",
    "# ! This is NOT matrix multiplication, it is array multiplication\n",
    "c = np.ones((3,3))\n",
    "print(\"C = \\n\" + str(c))\n",
    "c_array_squared = c * c\n",
    "print(\"C * C = \\n\" + str(c_array_squared))\n",
    "\n",
    "# This IS matrix multiplication (dot product)\n",
    "c_matrix_squared = c.dot(c)\n",
    "print(\"C dot C = \\n\" + str(c_matrix_squared))"
   ]
  },
  {
   "cell_type": "code",
   "execution_count": 75,
   "metadata": {},
   "outputs": [
    {
     "name": "stdout",
     "output_type": "stream",
     "text": [
      "Even = [ 0  2  4  6  8 10 12 14 16 18]\n",
      "Odd = [ 1  3  5  7  9 11 13 15 17 19]\n",
      "Even + Odd (element-wise) = [ 1  5  9 13 17 21 25 29 33 37]\n",
      "The slowest run took 11.50 times longer than the fastest. This could mean that an intermediate result is being cached.\n",
      "100000 loops, best of 3: 2.67 µs per loop\n",
      "Even + Odd = [1, 5, 9, 13, 17, 21, 25, 29, 33, 37]\n",
      "100000 loops, best of 3: 12.2 µs per loop\n"
     ]
    }
   ],
   "source": [
    "# Exercises\n",
    "\n",
    "# Add even elements with odd elements and time them against vanilla Python\n",
    "x = np.arange(20)\n",
    "even = x[np.arange(0,20,2)]\n",
    "odd = x[np.arange(1,20,2)]\n",
    "print(\"Even = \" + str(even))\n",
    "print(\"Odd = \" + str(odd))\n",
    "print(\"Even + Odd (element-wise) = \" + str(even + odd))\n",
    "%timeit x = np.arange(20); x[np.arange(0,20,2)] + x[np.arange(1,20,2)]\n",
    "def is_even(n): return n % 2 == 0\n",
    "def is_odd(n): return not is_even(n)\n",
    "y = range(20)\n",
    "even_y = filter(is_even, y)\n",
    "odd_y = filter(is_odd, y)\n",
    "print(\"Even + Odd = \" + str([a[0] + a[1] for a in zip(even_y, odd_y)]))\n",
    "%timeit y = range(20); [a[0] + a[1] for a in zip(filter(is_even, y), filter(is_odd, y))]"
   ]
  },
  {
   "cell_type": "code",
   "execution_count": 77,
   "metadata": {},
   "outputs": [
    {
     "name": "stdout",
     "output_type": "stream",
     "text": [
      "NumPy Version\n",
      "[ 1  2  4  8 16]\n",
      "The slowest run took 15.11 times longer than the fastest. This could mean that an intermediate result is being cached.\n",
      "1000000 loops, best of 3: 1.91 µs per loop\n",
      "Vanilla Python Version\n",
      "[1, 2, 4, 8, 16]\n",
      "1000000 loops, best of 3: 1.92 µs per loop\n"
     ]
    }
   ],
   "source": [
    "# Generate powers of 2 up to the 4th power\n",
    "print(\"NumPy Version\")\n",
    "print(2**np.arange(0,5))\n",
    "%timeit 2**np.arange(0,5)\n",
    "print(\"Vanilla Python Version\")\n",
    "print([2**x for x in range(0,5)])\n",
    "%timeit [2**x for x in range(0,5)]"
   ]
  },
  {
   "cell_type": "code",
   "execution_count": 78,
   "metadata": {
    "collapsed": true
   },
   "outputs": [],
   "source": [
    "# I'm not sure what the last exercise is asking me for..."
   ]
  },
  {
   "cell_type": "code",
   "execution_count": 79,
   "metadata": {
    "collapsed": true
   },
   "outputs": [],
   "source": [
    "# Other operations"
   ]
  },
  {
   "cell_type": "code",
   "execution_count": 81,
   "metadata": {},
   "outputs": [
    {
     "name": "stdout",
     "output_type": "stream",
     "text": [
      "a == b? [False  True False  True]\n",
      "a > b? [False False  True False]\n"
     ]
    }
   ],
   "source": [
    "# Comparisons\n",
    "a = np.array([1,2,3,4])\n",
    "b = np.array([4,2,2,4])\n",
    "print(\"a == b? \" + str(a == b))\n",
    "print(\"a > b? \" + str(a > b))\n",
    "# All comparisons are elementwise and create a boolean array"
   ]
  },
  {
   "cell_type": "code",
   "execution_count": 83,
   "metadata": {},
   "outputs": [
    {
     "name": "stdout",
     "output_type": "stream",
     "text": [
      "Does array 'a' == array 'b'? False\n",
      "Does array 'a' == array 'c'? True\n"
     ]
    }
   ],
   "source": [
    "# But there is a way to do array-wise comparisons\n",
    "a = np.array([1,2,3,4])\n",
    "b = np.array([4,2,2,4])\n",
    "c = np.array([1,2,3,4])\n",
    "print(\"Does array 'a' == array 'b'? \" + str(np.array_equal(a,b)))\n",
    "print(\"Does array 'a' == array 'c'? \" + str(np.array_equal(a,c)))"
   ]
  },
  {
   "cell_type": "code",
   "execution_count": 100,
   "metadata": {},
   "outputs": [
    {
     "name": "stdout",
     "output_type": "stream",
     "text": [
      "[ True  True  True False]\n",
      "[ True False False False]\n",
      "True\n",
      "[False False  True  True]\n",
      "[False  True  True False]\n"
     ]
    }
   ],
   "source": [
    "# Logical Operations\n",
    "a = np.array([1,1,0,0], dtype=bool)\n",
    "b = np.array([1,0,1,0], dtype=bool)\n",
    "print(np.logical_or(a,b))\n",
    "print(np.logical_and(a,b))\n",
    "out = np.zeros(4, dtype=bool)\n",
    "print(np.array_equal(np.logical_not(a,out), out))\n",
    "print(out)\n",
    "print(np.logical_xor(a,b))"
   ]
  },
  {
   "cell_type": "code",
   "execution_count": 102,
   "metadata": {},
   "outputs": [
    {
     "name": "stdout",
     "output_type": "stream",
     "text": [
      "[ 0.          0.84147098  0.90929743  0.14112001 -0.7568025 ]\n",
      "[       -inf  0.          0.69314718  1.09861229  1.38629436]\n",
      "[  1.           2.71828183   7.3890561   20.08553692  54.59815003]\n"
     ]
    },
    {
     "name": "stderr",
     "output_type": "stream",
     "text": [
      "/usr/local/lib/python3.5/site-packages/ipykernel/__main__.py:4: RuntimeWarning: divide by zero encountered in log\n"
     ]
    }
   ],
   "source": [
    "# Transcendental functions\n",
    "a = np.arange(5)\n",
    "print(np.sin(a))\n",
    "print(np.log(a))\n",
    "print(np.exp(a))"
   ]
  },
  {
   "cell_type": "code",
   "execution_count": 103,
   "metadata": {},
   "outputs": [
    {
     "ename": "ValueError",
     "evalue": "operands could not be broadcast together with shapes (5,) (2,) ",
     "output_type": "error",
     "traceback": [
      "\u001b[0;31m---------------------------------------------------------------------------\u001b[0m",
      "\u001b[0;31mValueError\u001b[0m                                Traceback (most recent call last)",
      "\u001b[0;32m<ipython-input-103-ab4faa8cea1e>\u001b[0m in \u001b[0;36m<module>\u001b[0;34m()\u001b[0m\n\u001b[1;32m      1\u001b[0m \u001b[0;31m# Shape mismatches\u001b[0m\u001b[0;34m\u001b[0m\u001b[0;34m\u001b[0m\u001b[0m\n\u001b[1;32m      2\u001b[0m \u001b[0ma\u001b[0m \u001b[0;34m=\u001b[0m \u001b[0mnp\u001b[0m\u001b[0;34m.\u001b[0m\u001b[0marange\u001b[0m\u001b[0;34m(\u001b[0m\u001b[0;36m5\u001b[0m\u001b[0;34m)\u001b[0m\u001b[0;34m\u001b[0m\u001b[0m\n\u001b[0;32m----> 3\u001b[0;31m \u001b[0ma\u001b[0m \u001b[0;34m+\u001b[0m \u001b[0mnp\u001b[0m\u001b[0;34m.\u001b[0m\u001b[0marray\u001b[0m\u001b[0;34m(\u001b[0m\u001b[0;34m[\u001b[0m\u001b[0;36m1\u001b[0m\u001b[0;34m,\u001b[0m\u001b[0;36m2\u001b[0m\u001b[0;34m]\u001b[0m\u001b[0;34m)\u001b[0m\u001b[0;34m\u001b[0m\u001b[0m\n\u001b[0m",
      "\u001b[0;31mValueError\u001b[0m: operands could not be broadcast together with shapes (5,) (2,) "
     ]
    }
   ],
   "source": [
    "# Shape mismatches\n",
    "a = np.arange(5)\n",
    "a + np.array([1,2])"
   ]
  },
  {
   "cell_type": "code",
   "execution_count": 116,
   "metadata": {},
   "outputs": [
    {
     "name": "stdout",
     "output_type": "stream",
     "text": [
      "[[ 0.  1.  1.  1.  1.]\n",
      " [ 0.  0.  1.  1.  1.]\n",
      " [ 0.  0.  0.  1.  1.]\n",
      " [ 0.  0.  0.  0.  1.]\n",
      " [ 0.  0.  0.  0.  0.]]\n",
      "[[ 0.  0.  0.  0.  0.]\n",
      " [ 1.  0.  0.  0.  0.]\n",
      " [ 1.  1.  0.  0.  0.]\n",
      " [ 1.  1.  1.  0.  0.]\n",
      " [ 1.  1.  1.  1.  0.]]\n",
      "[[ 1.  1.  0.  0.  0.]\n",
      " [ 1.  1.  1.  0.  0.]\n",
      " [ 1.  1.  1.  1.  0.]\n",
      " [ 1.  1.  1.  1.  1.]\n",
      " [ 1.  1.  1.  1.  1.]]\n"
     ]
    }
   ],
   "source": [
    "a = np.triu(np.ones((5, 5)), 1)\n",
    "print(a)\n",
    "print(a.T) # Transpose\n",
    "print(np.tril(np.ones((5,5)), 1))"
   ]
  },
  {
   "cell_type": "code",
   "execution_count": 118,
   "metadata": {
    "collapsed": true
   },
   "outputs": [],
   "source": [
    "# Exercises\n",
    "\n",
    "np.allclose?\n",
    "# This is useful, for example, when comparing float arrays, since the floats might not be exactly the same all of the\n",
    "# time, or when comparing lab results which allow for a certain % error."
   ]
  },
  {
   "cell_type": "code",
   "execution_count": 119,
   "metadata": {
    "collapsed": true
   },
   "outputs": [],
   "source": [
    "np.triu?"
   ]
  },
  {
   "cell_type": "code",
   "execution_count": 120,
   "metadata": {
    "collapsed": true
   },
   "outputs": [],
   "source": [
    "np.tril?"
   ]
  },
  {
   "cell_type": "code",
   "execution_count": 123,
   "metadata": {},
   "outputs": [
    {
     "name": "stdout",
     "output_type": "stream",
     "text": [
      "[0 1 2 3 4]\n",
      "10\n",
      "10\n"
     ]
    }
   ],
   "source": [
    "# Computing Sums\n",
    "x = np.arange(5)\n",
    "print(x)\n",
    "print(np.sum(x))\n",
    "print(x.sum())"
   ]
  },
  {
   "cell_type": "code",
   "execution_count": 131,
   "metadata": {},
   "outputs": [
    {
     "name": "stdout",
     "output_type": "stream",
     "text": [
      "[[1 1]\n",
      " [2 2]]\n",
      "Sum columns = [3 3]\n",
      "Sum columns = (3, 3)\n",
      "Sum rows = [2 4]\n",
      "Sum rows = (2, 4)\n"
     ]
    }
   ],
   "source": [
    "# Sum by rows and by columns\n",
    "x = np.array([[1,1],[2,2]])\n",
    "print(x)\n",
    "print(\"Sum columns = \" + str(x.sum(axis=0)))\n",
    "print(\"Sum columns = \" + str((x[:, 0].sum(), x[:, 1].sum())))\n",
    "print(\"Sum rows = \" + str(x.sum(axis=1)))\n",
    "print(\"Sum rows = \" + str((x[0, :].sum(), x[1, :].sum())))"
   ]
  },
  {
   "cell_type": "code",
   "execution_count": 133,
   "metadata": {},
   "outputs": [
    {
     "name": "stdout",
     "output_type": "stream",
     "text": [
      "[[[ 0.99679957  0.36676061]\n",
      "  [ 0.88093997  0.18820736]]\n",
      "\n",
      " [[ 0.2475781   0.59004487]\n",
      "  [ 0.05173794  0.0318825 ]]]\n",
      "1.06914733676\n",
      "1.06914733676\n"
     ]
    }
   ],
   "source": [
    "# Higher dimensional sums\n",
    "x = np.random.rand(2,2,2)\n",
    "print(x)\n",
    "print(x.sum(axis=2)[0,1])\n",
    "print(x[0,1,:].sum())"
   ]
  },
  {
   "cell_type": "code",
   "execution_count": 150,
   "metadata": {},
   "outputs": [
    {
     "name": "stdout",
     "output_type": "stream",
     "text": [
      "1\n",
      "4\n",
      "Index of minimum = 0\n",
      "Index of maximum = 2\n"
     ]
    }
   ],
   "source": [
    "# Other Reductions\n",
    "# Extrema\n",
    "x = np.array([1,2,4,3])\n",
    "print(x.min())\n",
    "print(x.max())\n",
    "print(\"Index of minimum = \" + str(x.argmin()))\n",
    "print(\"Index of maximum = \" + str(x.argmax()))"
   ]
  },
  {
   "cell_type": "code",
   "execution_count": 156,
   "metadata": {},
   "outputs": [
    {
     "name": "stdout",
     "output_type": "stream",
     "text": [
      "False\n",
      "True\n",
      "False\n",
      "True\n",
      "True\n"
     ]
    },
    {
     "data": {
      "text/plain": [
       "True"
      ]
     },
     "execution_count": 156,
     "metadata": {},
     "output_type": "execute_result"
    }
   ],
   "source": [
    "# Logical Operations\n",
    "print(np.all([True, True, False]))\n",
    "print(np.any([False, True, False]))\n",
    "zs = np.zeros((100,100))\n",
    "print(np.any(zs != 0))\n",
    "print(np.all(zs == 0))\n",
    "print(np.all(zs == zs))\n",
    "\n",
    "a = np.array([1,2,3,2])\n",
    "b = np.array([2,2,3,2])\n",
    "c = np.array([6,4,4,5])\n",
    "((a <= b) & (b <= c)).all()"
   ]
  },
  {
   "cell_type": "code",
   "execution_count": 164,
   "metadata": {},
   "outputs": [
    {
     "name": "stdout",
     "output_type": "stream",
     "text": [
      "1.75\n",
      "1.5\n",
      "[ 2.  5.]\n",
      "[ 3.  4.  2.]\n"
     ]
    },
    {
     "data": {
      "text/plain": [
       "0.82915619758884995"
      ]
     },
     "execution_count": 164,
     "metadata": {},
     "output_type": "execute_result"
    }
   ],
   "source": [
    "# Statistics\n",
    "x = np.array([1,2,3,1])\n",
    "y = np.array([[1,2,3],[5,6,1]])\n",
    "print(x.mean())\n",
    "print(np.median(x))\n",
    "print(np.median(y, axis=-1))\n",
    "print(np.median(y, axis=0))\n",
    "x.std() # full population standard deviation"
   ]
  },
  {
   "cell_type": "code",
   "execution_count": 170,
   "metadata": {},
   "outputs": [],
   "source": [
    "# Reduction Exercises\n",
    "\n",
    "# Q: What is there in addition to the 'sum' function?\n",
    "# A: Product, called 'prod' after a quick lib search to confirm \n",
    "\n",
    "# Q: Difference between sum and cumsum?\n",
    "# A: Sum just returns the final sum, cumsum returns an array containing all the intermediate sums calculated."
   ]
  },
  {
   "cell_type": "code",
   "execution_count": 172,
   "metadata": {},
   "outputs": [
    {
     "name": "stdout",
     "output_type": "stream",
     "text": [
      "# year\thare\tlynx\tcarrot\r\n",
      "1900\t30e3\t4e3\t48300\r\n",
      "1901\t47.2e3\t6.1e3\t48200\r\n",
      "1902\t70.2e3\t9.8e3\t41500\r\n",
      "1903\t77.4e3\t35.2e3\t38200\r\n",
      "1904\t36.3e3\t59.4e3\t40600\r\n",
      "1905\t20.6e3\t41.7e3\t39800\r\n",
      "1906\t18.1e3\t19e3\t38600\r\n",
      "1907\t21.4e3\t13e3\t42300\r\n",
      "1908\t22e3\t8.3e3\t44500\r\n",
      "1909\t25.4e3\t9.1e3\t42100\r\n",
      "1910\t27.1e3\t7.4e3\t46000\r\n",
      "1911\t40.3e3\t8e3\t46800\r\n",
      "1912\t57e3\t12.3e3\t43800\r\n",
      "1913\t76.6e3\t19.5e3\t40900\r\n",
      "1914\t52.3e3\t45.7e3\t39400\r\n",
      "1915\t19.5e3\t51.1e3\t39000\r\n",
      "1916\t11.2e3\t29.7e3\t36700\r\n",
      "1917\t7.6e3\t15.8e3\t41800\r\n",
      "1918\t14.6e3\t9.7e3\t43300\r\n",
      "1919\t16.2e3\t10.1e3\t41300\r\n",
      "1920\t24.7e3\t8.6e3\t47300\r\n"
     ]
    }
   ],
   "source": [
    "# Worked Example: data statistics\n",
    "!cat data/populations.txt"
   ]
  },
  {
   "cell_type": "code",
   "execution_count": 174,
   "metadata": {
    "collapsed": true
   },
   "outputs": [],
   "source": [
    "data = np.loadtxt('data/populations.txt')\n",
    "year, hares, lynxes, carrots = data.T # Transpose the dataset to store the data to variables by column"
   ]
  },
  {
   "cell_type": "code",
   "execution_count": 188,
   "metadata": {},
   "outputs": [],
   "source": [
    "one, two, three = data.take([0,1,2,], axis=0) # an example of storing data to variables by row"
   ]
  },
  {
   "cell_type": "code",
   "execution_count": 196,
   "metadata": {},
   "outputs": [
    {
     "data": {
      "text/plain": [
       "<matplotlib.legend.Legend at 0x10c011dd8>"
      ]
     },
     "execution_count": 196,
     "metadata": {},
     "output_type": "execute_result"
    }
   ],
   "source": [
    "from matplotlib import pyplot as plt\n",
    "plt.axes([0.2, 0.1, 0.5, 0.8])\n",
    "plt.plot(year,hares,year,lynxes,year,carrots)\n",
    "plt.legend(('Hare','Lynx','Carrot'), loc=(1.05,.05))"
   ]
  },
  {
   "cell_type": "code",
   "execution_count": 197,
   "metadata": {
    "collapsed": true
   },
   "outputs": [],
   "source": [
    "plt.show()"
   ]
  },
  {
   "cell_type": "code",
   "execution_count": 198,
   "metadata": {},
   "outputs": [
    {
     "data": {
      "text/plain": [
       "array([ 34080.95238095,  20166.66666667,  42400.        ])"
      ]
     },
     "execution_count": 198,
     "metadata": {},
     "output_type": "execute_result"
    }
   ],
   "source": [
    "# The mean populations over time\n",
    "populations = data[:, 1:]\n",
    "populations.mean(axis=0)"
   ]
  },
  {
   "cell_type": "code",
   "execution_count": 199,
   "metadata": {},
   "outputs": [
    {
     "data": {
      "text/plain": [
       "array([ 20897.90645809,  16254.59153691,   3322.50622558])"
      ]
     },
     "execution_count": 199,
     "metadata": {},
     "output_type": "execute_result"
    }
   ],
   "source": [
    "# The std deviations of the dataset\n",
    "populations.std(axis=0)"
   ]
  },
  {
   "cell_type": "code",
   "execution_count": 200,
   "metadata": {},
   "outputs": [
    {
     "data": {
      "text/plain": [
       "array([2, 2, 0, 0, 1, 1, 2, 2, 2, 2, 2, 2, 0, 0, 0, 1, 2, 2, 2, 2, 2])"
      ]
     },
     "execution_count": 200,
     "metadata": {},
     "output_type": "execute_result"
    }
   ],
   "source": [
    "# Which species has the highest population each year?\n",
    "np.argmax(populations, axis=1)"
   ]
  },
  {
   "cell_type": "code",
   "execution_count": 215,
   "metadata": {},
   "outputs": [
    {
     "data": {
      "text/plain": [
       "['Carrot',\n",
       " 'Carrot',\n",
       " 'Hare',\n",
       " 'Hare',\n",
       " 'Lynx',\n",
       " 'Lynx',\n",
       " 'Carrot',\n",
       " 'Carrot',\n",
       " 'Carrot',\n",
       " 'Carrot',\n",
       " 'Carrot',\n",
       " 'Carrot',\n",
       " 'Hare',\n",
       " 'Hare',\n",
       " 'Hare',\n",
       " 'Lynx',\n",
       " 'Carrot',\n",
       " 'Carrot',\n",
       " 'Carrot',\n",
       " 'Carrot',\n",
       " 'Carrot']"
      ]
     },
     "execution_count": 215,
     "metadata": {},
     "output_type": "execute_result"
    }
   ],
   "source": [
    "# ^ but with labels\n",
    "list(map(lambda n: {0: 'Hare', 1: 'Lynx', 2: 'Carrot'}[n], np.argmax(populations, axis=1)))"
   ]
  },
  {
   "cell_type": "code",
   "execution_count": 235,
   "metadata": {},
   "outputs": [
    {
     "data": {
      "text/plain": [
       "True"
      ]
     },
     "execution_count": 235,
     "metadata": {},
     "output_type": "execute_result"
    }
   ],
   "source": [
    "# Worked Example\n",
    "# Diffusion using a random walk algorithm\n",
    "\n",
    "n_stories = 1000 # number of walkers\n",
    "t_max = 200      # time duration for which each walker is followed\n",
    "\n",
    "# Randomly 1 or -1 for each step of the walk at each time unit\n",
    "t = np.arange(t_max) # the time axis\n",
    "steps = 2 * np.random.random_integers(0,1,(n_stories, t_max)) - 1 # this creates random arrays of 1s and -1s\n",
    "np.array_equal(np.setdiff1d(np.unique(steps), np.array([1, -1])), [])"
   ]
  },
  {
   "cell_type": "code",
   "execution_count": 239,
   "metadata": {},
   "outputs": [
    {
     "data": {
      "text/plain": [
       "array([[  1,   0,   1, ...,   4,   9,  16],\n",
       "       [  1,   0,   1, ...,  64,  81,  64],\n",
       "       [  1,   4,   1, ...,  16,   9,  16],\n",
       "       ..., \n",
       "       [  1,   0,   1, ..., 484, 441, 400],\n",
       "       [  1,   0,   1, ..., 100,  81, 100],\n",
       "       [  1,   4,   9, ...,  64,  81,  64]])"
      ]
     },
     "execution_count": 239,
     "metadata": {},
     "output_type": "execute_result"
    }
   ],
   "source": [
    "# Build the walks by summing the steps along the timeline\n",
    "positions = np.cumsum(steps, axis=1) # axis 1 = timeline\n",
    "sq_distance = positions**2\n",
    "sq_distance"
   ]
  },
  {
   "cell_type": "code",
   "execution_count": 241,
   "metadata": {},
   "outputs": [
    {
     "data": {
      "text/plain": [
       "array([   1.   ,    1.92 ,    2.88 ,    4.048,    5.096,    6.14 ,\n",
       "          7.12 ,    8.24 ,    9.064,   10.288,   11.176,   12.06 ,\n",
       "         12.904,   13.944,   15.528,   16.088,   16.96 ,   17.844,\n",
       "         18.96 ,   20.02 ,   20.16 ,   20.82 ,   22.32 ,   23.716,\n",
       "         24.552,   25.364,   26.576,   27.716,   28.736,   29.596,\n",
       "         30.464,   31.392,   31.408,   31.948,   32.592,   33.72 ,\n",
       "         35.024,   35.976,   37.096,   37.948,   39.16 ,   40.308,\n",
       "         41.   ,   42.124,   43.432,   43.684,   44.52 ,   46.088,\n",
       "         48.04 ,   49.224,   50.696,   50.284,   50.808,   51.844,\n",
       "         53.368,   53.92 ,   55.136,   56.66 ,   56.48 ,   57.32 ,\n",
       "         58.76 ,   60.352,   61.512,   62.368,   63.976,   64.572,\n",
       "         65.16 ,   66.08 ,   67.84 ,   69.444,   70.24 ,   71.308,\n",
       "         72.304,   73.848,   74.592,   74.808,   74.952,   76.284,\n",
       "         76.752,   78.432,   80.272,   80.58 ,   82.048,   83.048,\n",
       "         82.832,   83.38 ,   83.6  ,   84.344,   85.72 ,   87.492,\n",
       "         88.864,   90.648,   91.648,   93.192,   93.168,   93.22 ,\n",
       "         94.48 ,   95.712,   97.632,   98.448,   99.888,  100.612,\n",
       "        102.168,  104.096,  105.472,  105.584,  106.12 ,  105.752,\n",
       "        104.728,  105.16 ,  106.024,  107.928,  109.224,  110.416,\n",
       "        111.256,  112.768,  114.224,  114.264,  114.8  ,  115.284,\n",
       "        115.632,  116.684,  116.8  ,  118.224,  119.064,  119.812,\n",
       "        120.856,  123.504,  124.848,  126.564,  127.304,  126.8  ,\n",
       "        128.856,  129.332,  130.112,  132.516,  133.864,  135.548,\n",
       "        136.232,  136.332,  136.648,  135.82 ,  135.848,  136.66 ,\n",
       "        137.944,  139.064,  139.104,  139.38 ,  142.04 ,  142.924,\n",
       "        145.112,  144.492,  144.048,  145.084,  146.96 ,  147.956,\n",
       "        149.256,  150.44 ,  152.288,  154.16 ,  155.36 ,  156.752,\n",
       "        156.64 ,  158.568,  158.68 ,  157.948,  158.44 ,  158.636,\n",
       "        159.472,  160.332,  161.024,  161.636,  161.968,  162.42 ,\n",
       "        162.968,  163.908,  164.28 ,  165.812,  166.752,  167.628,\n",
       "        168.608,  171.672,  173.24 ,  175.18 ,  175.712,  177.032,\n",
       "        177.768,  178.476,  178.4  ,  178.024,  179.352,  178.996,\n",
       "        180.272,  180.504,  181.016,  181.184,  181.504,  181.816,\n",
       "        182.632,  183.604])"
      ]
     },
     "execution_count": 241,
     "metadata": {},
     "output_type": "execute_result"
    }
   ],
   "source": [
    "# Get the mean in the stories axis\n",
    "mean_sq_distance = np.mean(sq_distance, axis=0) # axis 0 = storyline\n",
    "mean_sq_distance"
   ]
  },
  {
   "cell_type": "code",
   "execution_count": 243,
   "metadata": {},
   "outputs": [],
   "source": [
    "# plot the results\n",
    "plt.figure(figsize=(4,3))\n",
    "plt.plot(t, np.sqrt(mean_sq_distance), 'g.', t, np.sqrt(t), 'y-')\n",
    "plt.xlabel(r\"$t$\")\n",
    "plt.ylabel(r\"$\\sqrt{\\langle (\\delta x)^2 \\rangle}$\")\n",
    "plt.show()"
   ]
  },
  {
   "cell_type": "code",
   "execution_count": 244,
   "metadata": {
    "collapsed": true
   },
   "outputs": [],
   "source": [
    "# as you can see, this is a logarithmic curve - it grows by the sqrt of the time"
   ]
  },
  {
   "cell_type": "code",
   "execution_count": 257,
   "metadata": {},
   "outputs": [
    {
     "name": "stdout",
     "output_type": "stream",
     "text": [
      "[[ 0  0  0]\n",
      " [10 10 10]\n",
      " [20 20 20]\n",
      " [30 30 30]]\n",
      "\n",
      "[0 1 2]\n",
      "\n",
      "[[ 0  1  2]\n",
      " [10 11 12]\n",
      " [20 21 22]\n",
      " [30 31 32]]\n"
     ]
    }
   ],
   "source": [
    "# Broadcasting (performing operations on different-sized arrays)\n",
    "a = np.tile(np.arange(0, 40, 10), (3, 1)).T\n",
    "print(a)\n",
    "b = np.array([0, 1, 2])\n",
    "print()\n",
    "print(b)\n",
    "\n",
    "# Add the matrix A to the array B even though they differ in size on the y dimension\n",
    "print()\n",
    "print(a + b)"
   ]
  },
  {
   "cell_type": "code",
   "execution_count": 259,
   "metadata": {},
   "outputs": [
    {
     "name": "stdout",
     "output_type": "stream",
     "text": [
      "[[ 1.  1.  1.  1.  1.]\n",
      " [ 1.  1.  1.  1.  1.]\n",
      " [ 1.  1.  1.  1.  1.]\n",
      " [ 1.  1.  1.  1.  1.]]\n",
      "\n",
      "[[ 2.  2.  2.  2.  2.]\n",
      " [ 1.  1.  1.  1.  1.]\n",
      " [ 1.  1.  1.  1.  1.]\n",
      " [ 1.  1.  1.  1.  1.]]\n"
     ]
    }
   ],
   "source": [
    "# Another example of broadcasting at play\n",
    "a = np.ones((4,5))\n",
    "print(a)\n",
    "print()\n",
    "a[0] = 2 # Assign an array of dimension 0 to an array of dimension 1. Observe, 2 propogates the full size of the array.\n",
    "print(a)"
   ]
  },
  {
   "cell_type": "code",
   "execution_count": 263,
   "metadata": {},
   "outputs": [
    {
     "name": "stdout",
     "output_type": "stream",
     "text": [
      "[ 0 10 20 30]\n",
      "\n",
      "(4,)\n",
      "(4, 1)\n",
      "\n",
      "[[ 0]\n",
      " [10]\n",
      " [20]\n",
      " [30]]\n",
      "\n",
      "[0 1 2]\n",
      "\n",
      "[[ 0  1  2]\n",
      " [10 11 12]\n",
      " [20 21 22]\n",
      " [30 31 32]]\n"
     ]
    }
   ],
   "source": [
    "# A useful trick\n",
    "a = np.arange(0, 40, 10) # remember -> arange([min, max), step)\n",
    "print(a)\n",
    "print()\n",
    "print(a.shape)\n",
    "a = a[:, np.newaxis] # adds a new axis to make this a 2D array (now, it's a column instead of a row)\n",
    "print(a.shape)\n",
    "print()\n",
    "print(a); print()\n",
    "print(b); print()\n",
    "print(a + b) # A is extended rowwise to match B's max rows, B is extended columnwise to match A's max columns."
   ]
  },
  {
   "cell_type": "code",
   "execution_count": 268,
   "metadata": {},
   "outputs": [
    {
     "name": "stdout",
     "output_type": "stream",
     "text": [
      "[   0  198  303  736  871 1175 1475 1544 1913 2448]\n",
      "\n",
      "[[   0]\n",
      " [ 198]\n",
      " [ 303]\n",
      " [ 736]\n",
      " [ 871]\n",
      " [1175]\n",
      " [1475]\n",
      " [1544]\n",
      " [1913]\n",
      " [2448]]\n",
      "\n"
     ]
    },
    {
     "data": {
      "text/plain": [
       "array([[   0,  198,  303,  736,  871, 1175, 1475, 1544, 1913, 2448],\n",
       "       [ 198,    0,  105,  538,  673,  977, 1277, 1346, 1715, 2250],\n",
       "       [ 303,  105,    0,  433,  568,  872, 1172, 1241, 1610, 2145],\n",
       "       [ 736,  538,  433,    0,  135,  439,  739,  808, 1177, 1712],\n",
       "       [ 871,  673,  568,  135,    0,  304,  604,  673, 1042, 1577],\n",
       "       [1175,  977,  872,  439,  304,    0,  300,  369,  738, 1273],\n",
       "       [1475, 1277, 1172,  739,  604,  300,    0,   69,  438,  973],\n",
       "       [1544, 1346, 1241,  808,  673,  369,   69,    0,  369,  904],\n",
       "       [1913, 1715, 1610, 1177, 1042,  738,  438,  369,    0,  535],\n",
       "       [2448, 2250, 2145, 1712, 1577, 1273,  973,  904,  535,    0]])"
      ]
     },
     "execution_count": 268,
     "metadata": {},
     "output_type": "execute_result"
    }
   ],
   "source": [
    "# Worked Example: Broadcasting\n",
    "\n",
    "# Construct an array of distances in miles between cities of Route 66: [Chicago, Springfield, Saint Louis, Tulsa,\n",
    "# Oklahoma City, Amarillo, Santa Fe, Albuquerque, Flagstaff, Los Angeles].\n",
    "\n",
    "mileposts = np.array([0, 198, 303, 736, 871, 1175, 1475, 1544, 1913, 2448])\n",
    "print(mileposts[:])\n",
    "print()\n",
    "print(mileposts[:, np.newaxis])\n",
    "print()\n",
    "distance_array = np.abs(mileposts - mileposts[:, np.newaxis])\n",
    "distance_array"
   ]
  },
  {
   "cell_type": "code",
   "execution_count": 269,
   "metadata": {},
   "outputs": [
    {
     "data": {
      "text/plain": [
       "array([[ 0.        ,  1.        ,  2.        ,  3.        ,  4.        ],\n",
       "       [ 1.        ,  1.41421356,  2.23606798,  3.16227766,  4.12310563],\n",
       "       [ 2.        ,  2.23606798,  2.82842712,  3.60555128,  4.47213595],\n",
       "       [ 3.        ,  3.16227766,  3.60555128,  4.24264069,  5.        ],\n",
       "       [ 4.        ,  4.12310563,  4.47213595,  5.        ,  5.65685425]])"
      ]
     },
     "execution_count": 269,
     "metadata": {},
     "output_type": "execute_result"
    }
   ],
   "source": [
    "# Compute the distance of each point from the origin on a 10x10 grid\n",
    "x,y = np.arange(5), np.arange(5)[:, np.newaxis]\n",
    "distance = np.sqrt(x**2 + y**2)  # pythagorean theorem\n",
    "distance"
   ]
  },
  {
   "cell_type": "code",
   "execution_count": 271,
   "metadata": {},
   "outputs": [],
   "source": [
    "plt.pcolor(distance)\n",
    "plt.colorbar()\n",
    "plt.show()"
   ]
  },
  {
   "cell_type": "code",
   "execution_count": 280,
   "metadata": {},
   "outputs": [
    {
     "name": "stdout",
     "output_type": "stream",
     "text": [
      "[[0]\n",
      " [1]\n",
      " [2]\n",
      " [3]\n",
      " [4]]\n",
      "[[0 1 2 3 4]]\n",
      "(5, 1) (1, 5)\n"
     ]
    },
    {
     "data": {
      "text/plain": [
       "array([[ 0.        ,  1.        ,  2.        ,  3.        ,  4.        ],\n",
       "       [ 1.        ,  1.41421356,  2.23606798,  3.16227766,  4.12310563],\n",
       "       [ 2.        ,  2.23606798,  2.82842712,  3.60555128,  4.47213595],\n",
       "       [ 3.        ,  3.16227766,  3.60555128,  4.24264069,  5.        ],\n",
       "       [ 4.        ,  4.12310563,  4.47213595,  5.        ,  5.65685425]])"
      ]
     },
     "execution_count": 280,
     "metadata": {},
     "output_type": "execute_result"
    }
   ],
   "source": [
    "# the 'ogrid' function allows you to do the same as the above more succinctly\n",
    "x, y = np.ogrid[0:5, 0:5]\n",
    "print(x)\n",
    "print(y)\n",
    "print(x.shape, y.shape)\n",
    "distance = np.sqrt(x**2 + y**2)\n",
    "distance"
   ]
  },
  {
   "cell_type": "code",
   "execution_count": 284,
   "metadata": {},
   "outputs": [],
   "source": [
    "plt.pcolor(distance)\n",
    "plt.colorbar()\n",
    "plt.show()"
   ]
  },
  {
   "cell_type": "code",
   "execution_count": 288,
   "metadata": {},
   "outputs": [
    {
     "name": "stdout",
     "output_type": "stream",
     "text": [
      "[[0 0 0 0 0]\n",
      " [1 1 1 1 1]\n",
      " [2 2 2 2 2]\n",
      " [3 3 3 3 3]\n",
      " [4 4 4 4 4]]\n",
      "\n",
      "[[0 1 2 3 4]\n",
      " [0 1 2 3 4]\n",
      " [0 1 2 3 4]\n",
      " [0 1 2 3 4]\n",
      " [0 1 2 3 4]]\n"
     ]
    }
   ],
   "source": [
    "# You can also use mgrid where broadcasting is not possible or desireable\n",
    "x, y = np.mgrid[0:5, 0:5]\n",
    "print(x)\n",
    "print()\n",
    "print(y)"
   ]
  },
  {
   "cell_type": "code",
   "execution_count": 289,
   "metadata": {},
   "outputs": [
    {
     "data": {
      "text/plain": [
       "array([1, 2, 3, 4, 5, 6])"
      ]
     },
     "execution_count": 289,
     "metadata": {},
     "output_type": "execute_result"
    }
   ],
   "source": [
    "# Array shape manipulation\n",
    "\n",
    "# flattenning\n",
    "a = np.array([[1,2,3],[4,5,6]])\n",
    "a.ravel()"
   ]
  },
  {
   "cell_type": "code",
   "execution_count": 290,
   "metadata": {},
   "outputs": [
    {
     "data": {
      "text/plain": [
       "array([[1, 4],\n",
       "       [2, 5],\n",
       "       [3, 6]])"
      ]
     },
     "execution_count": 290,
     "metadata": {},
     "output_type": "execute_result"
    }
   ],
   "source": [
    "a.T"
   ]
  },
  {
   "cell_type": "code",
   "execution_count": 291,
   "metadata": {},
   "outputs": [
    {
     "data": {
      "text/plain": [
       "array([1, 4, 2, 5, 3, 6])"
      ]
     },
     "execution_count": 291,
     "metadata": {},
     "output_type": "execute_result"
    }
   ],
   "source": [
    "a.T.ravel()"
   ]
  },
  {
   "cell_type": "code",
   "execution_count": 297,
   "metadata": {},
   "outputs": [
    {
     "name": "stdout",
     "output_type": "stream",
     "text": [
      "(2, 3)\n",
      "[1 2 3 4 5 6]\n",
      "[[1 2 3]\n",
      " [4 5 6]]\n",
      "\n",
      "[[1 2 3]\n",
      " [4 5 6]]\n",
      "True\n"
     ]
    }
   ],
   "source": [
    "# Reshaping\n",
    "print(a.shape)\n",
    "b = a.ravel()\n",
    "print(b)\n",
    "b = b.reshape((2,3))\n",
    "print(b)\n",
    "print()\n",
    "print(a)\n",
    "print(np.array_equal(a, b))"
   ]
  },
  {
   "cell_type": "code",
   "execution_count": 298,
   "metadata": {},
   "outputs": [
    {
     "data": {
      "text/plain": [
       "array([[1, 2, 3],\n",
       "       [4, 5, 6]])"
      ]
     },
     "execution_count": 298,
     "metadata": {},
     "output_type": "execute_result"
    }
   ],
   "source": [
    "a.reshape((2, -1)) # The value at (-1) is taken to be an inferred value, which evenly splits array to 2 of equal size."
   ]
  },
  {
   "cell_type": "code",
   "execution_count": 303,
   "metadata": {},
   "outputs": [
    {
     "name": "stdout",
     "output_type": "stream",
     "text": [
      "[[99  2  3]\n",
      " [ 4  5  6]]\n",
      "\n",
      "99\n",
      "99\n"
     ]
    }
   ],
   "source": [
    "print(b)\n",
    "print()\n",
    "b[0, 0] = 99\n",
    "print(b[0, 0])\n",
    "\n",
    "# Beware, reshape, ravel, and other shaping functions are not guaranteed to return a deep copy\n",
    "print(a[0,0])"
   ]
  },
  {
   "cell_type": "code",
   "execution_count": 304,
   "metadata": {},
   "outputs": [
    {
     "data": {
      "text/plain": [
       "array([[ 0.,  0.],\n",
       "       [ 0.,  0.],\n",
       "       [ 0.,  0.]])"
      ]
     },
     "execution_count": 304,
     "metadata": {},
     "output_type": "execute_result"
    }
   ],
   "source": [
    "# But reshape MAY return a copy in some cases\n",
    "a = np.zeros((3,2))\n",
    "b = a.T.reshape(3*2)\n",
    "b[0] = 9\n",
    "a"
   ]
  },
  {
   "cell_type": "code",
   "execution_count": null,
   "metadata": {
    "collapsed": true
   },
   "outputs": [],
   "source": [
    "# for an intuitive understanding of this behavior, look into the memory layout of the NumPy lib."
   ]
  },
  {
   "cell_type": "code",
   "execution_count": 313,
   "metadata": {},
   "outputs": [
    {
     "name": "stdout",
     "output_type": "stream",
     "text": [
      "[ 0  1  2  3  4  5  6  7  8  9 10 11 12 13 14 15 16 17 18 19 20 21 22 23]\n",
      "[[[ 0  1]\n",
      "  [ 2  3]\n",
      "  [ 4  5]]\n",
      "\n",
      " [[ 6  7]\n",
      "  [ 8  9]\n",
      "  [10 11]]\n",
      "\n",
      " [[12 13]\n",
      "  [14 15]\n",
      "  [16 17]]\n",
      "\n",
      " [[18 19]\n",
      "  [20 21]\n",
      "  [22 23]]]\n",
      "\n",
      "(4, 3, 2)\n",
      "(3, 2, 4)\n",
      "\n",
      "[[[ 0  6 12 18]\n",
      "  [ 1  7 13 19]]\n",
      "\n",
      " [[ 2  8 14 20]\n",
      "  [ 3  9 15 21]]\n",
      "\n",
      " [[ 4 10 16 22]\n",
      "  [ 5 11 17 23]]]\n",
      "\n",
      "5\n"
     ]
    }
   ],
   "source": [
    "# Adding a Dimension\n",
    "a = np.arange(4*3*2)\n",
    "x = a.reshape(4,3,2)\n",
    "print(a)\n",
    "print(x)\n",
    "print()\n",
    "print(x.shape)\n",
    "b = x.transpose(1,2,0)\n",
    "print(b.shape)\n",
    "print()\n",
    "print(b)\n",
    "print()\n",
    "print(b[2,1,0])"
   ]
  },
  {
   "cell_type": "code",
   "execution_count": 316,
   "metadata": {},
   "outputs": [
    {
     "data": {
      "text/plain": [
       "-1"
      ]
     },
     "execution_count": 316,
     "metadata": {},
     "output_type": "execute_result"
    }
   ],
   "source": [
    "# The above also operates on views, not deep copies\n",
    "b[2,1,0] = -1\n",
    "x[0,2,1]"
   ]
  },
  {
   "cell_type": "code",
   "execution_count": 317,
   "metadata": {},
   "outputs": [
    {
     "data": {
      "text/plain": [
       "array([0, 1, 2, 3, 0, 0, 0, 0])"
      ]
     },
     "execution_count": 317,
     "metadata": {},
     "output_type": "execute_result"
    }
   ],
   "source": [
    "# Resizing\n",
    "\n",
    "# The size of an array can be changed with ndarray.resize.  This will mutate the original data structure.\n",
    "a = np.arange(4)\n",
    "a.resize((8,))\n",
    "a"
   ]
  },
  {
   "cell_type": "code",
   "execution_count": 318,
   "metadata": {},
   "outputs": [
    {
     "ename": "ValueError",
     "evalue": "cannot resize an array that references or is referenced\nby another array in this way.  Use the resize function",
     "output_type": "error",
     "traceback": [
      "\u001b[0;31m---------------------------------------------------------------------------\u001b[0m",
      "\u001b[0;31mValueError\u001b[0m                                Traceback (most recent call last)",
      "\u001b[0;32m<ipython-input-318-1f1847724f5a>\u001b[0m in \u001b[0;36m<module>\u001b[0;34m()\u001b[0m\n\u001b[1;32m      1\u001b[0m \u001b[0;31m# However, it must not be referred to somewhere else.\u001b[0m\u001b[0;34m\u001b[0m\u001b[0;34m\u001b[0m\u001b[0m\n\u001b[1;32m      2\u001b[0m \u001b[0mb\u001b[0m \u001b[0;34m=\u001b[0m \u001b[0ma\u001b[0m\u001b[0;34m\u001b[0m\u001b[0m\n\u001b[0;32m----> 3\u001b[0;31m \u001b[0ma\u001b[0m\u001b[0;34m.\u001b[0m\u001b[0mresize\u001b[0m\u001b[0;34m(\u001b[0m\u001b[0;34m(\u001b[0m\u001b[0;36m4\u001b[0m\u001b[0;34m,\u001b[0m\u001b[0;34m)\u001b[0m\u001b[0;34m)\u001b[0m\u001b[0;34m\u001b[0m\u001b[0m\n\u001b[0m",
      "\u001b[0;31mValueError\u001b[0m: cannot resize an array that references or is referenced\nby another array in this way.  Use the resize function"
     ]
    }
   ],
   "source": [
    "# However, it must not be referred to somewhere else.\n",
    "b = a\n",
    "a.resize((4,))"
   ]
  },
  {
   "cell_type": "code",
   "execution_count": 319,
   "metadata": {
    "collapsed": true
   },
   "outputs": [],
   "source": [
    "# Exercises\n",
    "\n",
    "# 1. Read the docstring for reshape\n",
    "np.ndarray.reshape?"
   ]
  },
  {
   "cell_type": "code",
   "execution_count": 320,
   "metadata": {
    "collapsed": true
   },
   "outputs": [],
   "source": [
    "np.reshape?"
   ]
  },
  {
   "cell_type": "code",
   "execution_count": 326,
   "metadata": {},
   "outputs": [
    {
     "name": "stdout",
     "output_type": "stream",
     "text": [
      "[[1 2 3]\n",
      " [4 5 6]]\n",
      "\n",
      "[1 2 3 4 5 6]\n",
      "\n",
      "[1 2 3 4 5 6]\n",
      "\n",
      "[[1 2 3]\n",
      " [4 5 6]]\n",
      "\n",
      "[999   2   3   4   5   6]\n",
      "\n",
      "[[999   2   3]\n",
      " [  4   5   6]]\n",
      "\n"
     ]
    },
    {
     "data": {
      "text/plain": [
       "array([999,   2,   3,   4,   5,   6])"
      ]
     },
     "execution_count": 326,
     "metadata": {},
     "output_type": "execute_result"
    }
   ],
   "source": [
    "# 2. Use flatten as an alternative to ravel. Specify the differences (particularly with regards to which returns a\n",
    "#    view vs a copy)\n",
    "a = np.array([[1,2,3],[4,5,6]])\n",
    "print(a)\n",
    "print()\n",
    "f = a.flatten()\n",
    "r = a.ravel()\n",
    "print(f)\n",
    "print()\n",
    "print(r)\n",
    "print()\n",
    "f[0] = 999\n",
    "print(a)\n",
    "print()\n",
    "print(f)\n",
    "print()\n",
    "r[0] = 999\n",
    "print(a)\n",
    "print()\n",
    "r"
   ]
  },
  {
   "cell_type": "code",
   "execution_count": 327,
   "metadata": {
    "collapsed": true
   },
   "outputs": [],
   "source": [
    "# ^ ravel uses a view, flatten uses a copy.  When memory is critical, use ravel, and use flatten for correctness."
   ]
  },
  {
   "cell_type": "code",
   "execution_count": 335,
   "metadata": {},
   "outputs": [],
   "source": [
    "np.transpose?"
   ]
  },
  {
   "cell_type": "code",
   "execution_count": 330,
   "metadata": {},
   "outputs": [
    {
     "data": {
      "text/plain": [
       "array([[[ 1.,  1.,  1.],\n",
       "        [ 1.,  1.,  1.]]])"
      ]
     },
     "execution_count": 330,
     "metadata": {},
     "output_type": "execute_result"
    }
   ],
   "source": [
    "np.ones((1,2,3))"
   ]
  },
  {
   "cell_type": "code",
   "execution_count": 338,
   "metadata": {},
   "outputs": [
    {
     "name": "stdout",
     "output_type": "stream",
     "text": [
      "[[[1 2 3]\n",
      "  [4 5 6]]]\n",
      "\n",
      "Transpose default\n",
      "[[[1]\n",
      "  [4]]\n",
      "\n",
      " [[2]\n",
      "  [5]]\n",
      "\n",
      " [[3]\n",
      "  [6]]]\n",
      "\n",
      "Transpose to specific dimension\n",
      "[[[1 2 3]]\n",
      "\n",
      " [[4 5 6]]]\n",
      "(2, 1, 3)\n"
     ]
    }
   ],
   "source": [
    "x = np.array([[[1,2,3],[4,5,6]]])\n",
    "print(x)\n",
    "print()\n",
    "print(\"Transpose default\")\n",
    "print(x.transpose())\n",
    "print()\n",
    "print(\"Transpose to specific dimension\")\n",
    "print(x.transpose((1,0,2)))\n",
    "print(x.transpose((1,0,2)).shape)"
   ]
  },
  {
   "cell_type": "code",
   "execution_count": 339,
   "metadata": {
    "collapsed": true
   },
   "outputs": [],
   "source": [
    "\n",
    "# Sorting Data\n"
   ]
  },
  {
   "cell_type": "code",
   "execution_count": 342,
   "metadata": {},
   "outputs": [
    {
     "name": "stdout",
     "output_type": "stream",
     "text": [
      "[[3 4 5]\n",
      " [1 2 6]]\n",
      "\n",
      "[[4 2 1]\n",
      " [6 3 5]]\n"
     ]
    }
   ],
   "source": [
    "# Sorting along an axis\n",
    "a = np.array([[4,3,5],[6,2,1]])\n",
    "b = np.sort(a, axis=1)\n",
    "print(b)\n",
    "b = np.sort(a, axis=0)\n",
    "print()\n",
    "print(b)"
   ]
  },
  {
   "cell_type": "code",
   "execution_count": 343,
   "metadata": {},
   "outputs": [
    {
     "data": {
      "text/plain": [
       "array([[3, 4, 5],\n",
       "       [1, 2, 6]])"
      ]
     },
     "execution_count": 343,
     "metadata": {},
     "output_type": "execute_result"
    }
   ],
   "source": [
    "# in-place sort\n",
    "a.sort(axis=1)\n",
    "a"
   ]
  },
  {
   "cell_type": "code",
   "execution_count": 345,
   "metadata": {},
   "outputs": [
    {
     "name": "stdout",
     "output_type": "stream",
     "text": [
      "[2 3 1 0]\n"
     ]
    },
    {
     "data": {
      "text/plain": [
       "array([1, 2, 3, 4])"
      ]
     },
     "execution_count": 345,
     "metadata": {},
     "output_type": "execute_result"
    }
   ],
   "source": [
    "# Return the array indices in the order that sorts the array contents.\n",
    "a = np.array([4,3,1,2])\n",
    "j = np.argsort(a)\n",
    "print(j)\n",
    "a[j]"
   ]
  },
  {
   "cell_type": "code",
   "execution_count": 346,
   "metadata": {},
   "outputs": [
    {
     "data": {
      "text/plain": [
       "(0, 2)"
      ]
     },
     "execution_count": 346,
     "metadata": {},
     "output_type": "execute_result"
    }
   ],
   "source": [
    "# Finding minima and maxima\n",
    "a = np.array([4,3,1,2])\n",
    "j_max = np.argmax(a)\n",
    "j_min = np.argmin(a)\n",
    "j_max, j_min"
   ]
  },
  {
   "cell_type": "code",
   "execution_count": 353,
   "metadata": {},
   "outputs": [
    {
     "data": {
      "text/plain": [
       "array([ 9,  7,  2,  6, 10,  0,  4,  5,  1,  3, 11,  8])"
      ]
     },
     "execution_count": 353,
     "metadata": {},
     "output_type": "execute_result"
    }
   ],
   "source": [
    "# Exercises\n",
    "x = np.arange(12)\n",
    "np.random.shuffle(x)\n",
    "x"
   ]
  },
  {
   "cell_type": "code",
   "execution_count": 370,
   "metadata": {},
   "outputs": [
    {
     "name": "stdout",
     "output_type": "stream",
     "text": [
      "[[ 0  1  2  3]\n",
      " [ 4  5  6  7]\n",
      " [ 8  9 10 11]\n",
      " [12 13 14 15]]\n",
      "\n",
      "[[12 13 14 15]\n",
      " [ 8  9 10 11]\n",
      " [ 4  5  6  7]\n",
      " [ 0  1  2  3]]\n"
     ]
    },
    {
     "data": {
      "text/plain": [
       "array([[15, 14, 13, 12],\n",
       "       [11, 10,  9,  8],\n",
       "       [ 7,  6,  5,  4],\n",
       "       [ 3,  2,  1,  0]])"
      ]
     },
     "execution_count": 370,
     "metadata": {},
     "output_type": "execute_result"
    }
   ],
   "source": [
    "# note that this only shuffles the whole rows, and then the elements within each row, but will not shuffle elements to \n",
    "# a different row.\n",
    "x = np.arange(16).reshape((4,4))\n",
    "print(x)\n",
    "print()\n",
    "np.random.shuffle(x)\n",
    "print(x)\n",
    "np.random.shuffle(x.T)\n",
    "x"
   ]
  },
  {
   "cell_type": "code",
   "execution_count": 371,
   "metadata": {},
   "outputs": [
    {
     "name": "stdout",
     "output_type": "stream",
     "text": [
      "[[ 0  1  2  3]\n",
      " [ 4  5  6  7]\n",
      " [ 8  9 10 11]\n",
      " [12 13 14 15]]\n"
     ]
    },
    {
     "data": {
      "text/plain": [
       "array([[ 8, 10,  5,  7],\n",
       "       [15, 13,  9,  1],\n",
       "       [ 0, 11,  2, 12],\n",
       "       [ 6, 14,  4,  3]])"
      ]
     },
     "execution_count": 371,
     "metadata": {},
     "output_type": "execute_result"
    }
   ],
   "source": [
    "# To shuffle everything completely randomly, flatten the matrix using ravel to grap a view, shuffle the view, and then\n",
    "# the original matrix will also be shuffled.\n",
    "x = np.arange(16).reshape((4,4))\n",
    "print(x)\n",
    "np.random.shuffle(x.ravel())\n",
    "x"
   ]
  },
  {
   "cell_type": "code",
   "execution_count": 372,
   "metadata": {},
   "outputs": [
    {
     "data": {
      "text/plain": [
       "array([[ 0,  1,  2,  3],\n",
       "       [ 4,  5,  6,  7],\n",
       "       [ 8,  9, 10, 11],\n",
       "       [12, 13, 14, 15]])"
      ]
     },
     "execution_count": 372,
     "metadata": {},
     "output_type": "execute_result"
    }
   ],
   "source": [
    "# To re-sort x\n",
    "x.ravel().sort()\n",
    "x"
   ]
  },
  {
   "cell_type": "code",
   "execution_count": 392,
   "metadata": {},
   "outputs": [
    {
     "data": {
      "text/plain": [
       "array([[[ 1,  2,  4,  6],\n",
       "        [ 6,  7,  8, 10],\n",
       "        [14, 15, 15, 17],\n",
       "        [18, 18, 26, 27]],\n",
       "\n",
       "       [[28, 31, 31, 32],\n",
       "        [33, 35, 36, 42],\n",
       "        [43, 48, 48, 49],\n",
       "        [53, 53, 53, 60]],\n",
       "\n",
       "       [[62, 63, 65, 67],\n",
       "        [68, 70, 71, 71],\n",
       "        [72, 74, 75, 77],\n",
       "        [77, 78, 79, 80]],\n",
       "\n",
       "       [[81, 82, 84, 85],\n",
       "        [85, 86, 86, 87],\n",
       "        [88, 90, 90, 91],\n",
       "        [95, 97, 98, 98]]])"
      ]
     },
     "execution_count": 392,
     "metadata": {},
     "output_type": "execute_result"
    }
   ],
   "source": [
    "# Or to sort first and then create a matrix\n",
    "x = np.random.random_integers(0, 100, 64)\n",
    "x.sort()\n",
    "y = x.reshape((4,4,4))\n",
    "y"
   ]
  },
  {
   "cell_type": "code",
   "execution_count": 395,
   "metadata": {},
   "outputs": [
    {
     "name": "stdout",
     "output_type": "stream",
     "text": [
      "[[[53 10 42 49]\n",
      "  [82 98 85 33]\n",
      "  [35 71 53 17]\n",
      "  [ 2 85 14 31]]\n",
      "\n",
      " [[98  6 48  7]\n",
      "  [81 15 18 18]\n",
      "  [86 70 26 53]\n",
      "  [65 79 28 90]]\n",
      "\n",
      " [[95 77 27 88]\n",
      "  [86 80  6  1]\n",
      "  [87 67 62 72]\n",
      "  [71 60 43 48]]\n",
      "\n",
      " [[84 91 97 74]\n",
      "  [63  8 31 78]\n",
      "  [77  4 90 15]\n",
      "  [75 36 68 32]]]\n"
     ]
    },
    {
     "data": {
      "text/plain": [
       "array([[[ 2, 10, 14, 17],\n",
       "        [35, 71, 42, 31],\n",
       "        [53, 85, 53, 33],\n",
       "        [82, 98, 85, 49]],\n",
       "\n",
       "       [[65,  6, 18,  7],\n",
       "        [81, 15, 26, 18],\n",
       "        [86, 70, 28, 53],\n",
       "        [98, 79, 48, 90]],\n",
       "\n",
       "       [[71, 60,  6,  1],\n",
       "        [86, 67, 27, 48],\n",
       "        [87, 77, 43, 72],\n",
       "        [95, 80, 62, 88]],\n",
       "\n",
       "       [[63,  4, 31, 15],\n",
       "        [75,  8, 68, 32],\n",
       "        [77, 36, 90, 74],\n",
       "        [84, 91, 97, 78]]])"
      ]
     },
     "execution_count": 395,
     "metadata": {},
     "output_type": "execute_result"
    }
   ],
   "source": [
    "# Sorting using axis\n",
    "np.random.shuffle(y.ravel())\n",
    "print(y)\n",
    "\n",
    "# sort by column\n",
    "y.sort(axis=1)\n",
    "y"
   ]
  },
  {
   "cell_type": "code",
   "execution_count": null,
   "metadata": {
    "collapsed": true
   },
   "outputs": [],
   "source": []
  }
 ],
 "metadata": {
  "kernelspec": {
   "display_name": "Python 3",
   "language": "python",
   "name": "python3"
  },
  "language_info": {
   "codemirror_mode": {
    "name": "ipython",
    "version": 3
   },
   "file_extension": ".py",
   "mimetype": "text/x-python",
   "name": "python",
   "nbconvert_exporter": "python",
   "pygments_lexer": "ipython3",
   "version": "3.7.2"
  }
 },
 "nbformat": 4,
 "nbformat_minor": 1
}
